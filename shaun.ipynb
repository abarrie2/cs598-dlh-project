{
 "cells": [
  {
   "cell_type": "markdown",
   "id": "b5c4831e",
   "metadata": {},
   "source": [
    "# Install Required Dependencies"
   ]
  },
  {
   "cell_type": "code",
   "execution_count": null,
   "id": "9c3c3661",
   "metadata": {},
   "outputs": [],
   "source": [
    "!pip install vitaldb"
   ]
  },
  {
   "cell_type": "code",
   "execution_count": null,
   "id": "ed86474c",
   "metadata": {},
   "outputs": [],
   "source": [
    "import os\n",
    "import random\n",
    "\n",
    "import numpy as np\n",
    "import pandas as pd\n",
    "import matplotlib.pyplot as plt\n",
    "import torch\n",
    "\n",
    "import vitaldb"
   ]
  },
  {
   "cell_type": "markdown",
   "id": "d454f7df",
   "metadata": {},
   "source": [
    "# Set Random Seed for Reproducibility"
   ]
  },
  {
   "cell_type": "code",
   "execution_count": null,
   "id": "52ff4c88",
   "metadata": {},
   "outputs": [],
   "source": [
    "seed = 42\n",
    "random.seed(seed)\n",
    "np.random.seed(seed)\n",
    "torch.manual_seed(seed)\n",
    "torch.use_deterministic_algorithms(True)\n",
    "os.environ['PYTHONASHSEED'] = str(seed)"
   ]
  },
  {
   "cell_type": "markdown",
   "id": "0e978f49",
   "metadata": {},
   "source": [
    "# Set Up Local Data Caches\n",
    "\n",
    "Since the VitalDB data is static, local copies are stored and reused to avoid expensive downloads and to speed up data processing.\n",
    "\n",
    "The default directory defined below is already in the project `.gitignore` file. If later modified, it should also be added to the project `.gitignore`."
   ]
  },
  {
   "cell_type": "code",
   "execution_count": null,
   "id": "36b97985",
   "metadata": {},
   "outputs": [],
   "source": [
    "VITALDB_CACHE = './vitaldb_cache'\n",
    "VITAL_ALL = 'vital_all'\n",
    "VITAL_MINI = 'vital_mini'\n",
    "VITAL_METADATA = 'metadata'"
   ]
  },
  {
   "cell_type": "code",
   "execution_count": null,
   "id": "93bd22e9",
   "metadata": {},
   "outputs": [],
   "source": [
    "!mkdir -p $VITALDB_CACHE\n",
    "!mkdir -p $VITALDB_CACHE/$VITAL_ALL\n",
    "!mkdir -p $VITALDB_CACHE/$VITAL_MINI\n",
    "!mkdir -p $VITALDB_CACHE/$VITAL_METADATA\n",
    "!ls -l $VITALDB_CACHE"
   ]
  },
  {
   "cell_type": "markdown",
   "id": "a109b2c7",
   "metadata": {},
   "source": [
    "# OSFS Bulk Data Download\n",
    "\n",
    "**This step is not required, but will significantly speed up downstream processing and avoid a high volume of API requests to the VitalDB web site.**\n",
    "\n",
    "The cache population code checks if OSFS bulk download data of VitalDB vital files is locally available.\n",
    "\n",
    "- Manually downloaded the OSF Store archives from the following site: https://osf.io/dtc45/\n",
    "    - `Vital Files 0001-2000`\n",
    "    - `Vital Files 2001-4000`\n",
    "    - `Vital Files 4001-6388`\n",
    "- Once the `OSF Storage (United States)` link is clicked a `Download as zip` link will appear.\n",
    "- Once downloaded, extract each of the 3 zip archives.\n",
    "- Move all files from each of the unzip directories into the `${VITALDB_CACHE}/${VITAL_ALL}` directory."
   ]
  },
  {
   "cell_type": "code",
   "execution_count": null,
   "id": "7a921386",
   "metadata": {},
   "outputs": [],
   "source": [
    "# Returns the Pandas DataFrame for the specified dataset.\n",
    "#   One of 'cases', 'labs', or 'trks'\n",
    "# If the file exists locally, create and return the DataFrame.\n",
    "# Else, download and cache the csv first, then return the DataFrame.\n",
    "def vitaldb_dataframe_loader(dataset_name):\n",
    "    if dataset_name not in ['cases', 'labs', 'trks']:\n",
    "        raise ValueError(f'Invalid dataset name: {dataset_name}')\n",
    "    file_path = f'{VITALDB_CACHE}/{VITAL_METADATA}/{dataset_name}.csv'\n",
    "    if os.path.isfile(file_path):\n",
    "        print(f'{dataset_name}.csv exists locally.')\n",
    "        df = pd.read_csv(file_path)\n",
    "        return df\n",
    "    else:\n",
    "        print(f'downloading {dataset_name} and storing in the local cache for future reuse.')\n",
    "        df = pd.read_csv(f'https://api.vitaldb.net/{dataset_name}')\n",
    "        df.to_csv(file_path, index=False)\n",
    "        return df"
   ]
  },
  {
   "cell_type": "markdown",
   "id": "dc1fdf3c",
   "metadata": {},
   "source": [
    "# Cases"
   ]
  },
  {
   "cell_type": "code",
   "execution_count": null,
   "id": "69cf5a63",
   "metadata": {
    "scrolled": true
   },
   "outputs": [],
   "source": [
    "cases = vitaldb_dataframe_loader('cases')\n",
    "cases = cases.set_index('caseid')\n",
    "cases.shape"
   ]
  },
  {
   "cell_type": "code",
   "execution_count": null,
   "id": "0b51bdc2",
   "metadata": {},
   "outputs": [],
   "source": [
    "cases.index.nunique()"
   ]
  },
  {
   "cell_type": "code",
   "execution_count": null,
   "id": "e6978396",
   "metadata": {},
   "outputs": [],
   "source": [
    "cases.head()"
   ]
  },
  {
   "cell_type": "code",
   "execution_count": null,
   "id": "0eeb1380",
   "metadata": {
    "scrolled": true
   },
   "outputs": [],
   "source": [
    "cases['sex'].value_counts()"
   ]
  },
  {
   "cell_type": "markdown",
   "id": "c071049a",
   "metadata": {},
   "source": [
    "# Tracks"
   ]
  },
  {
   "cell_type": "code",
   "execution_count": null,
   "id": "2f4331bc",
   "metadata": {},
   "outputs": [],
   "source": [
    "trks = vitaldb_dataframe_loader('trks')\n",
    "trks = trks.set_index('caseid')\n",
    "trks.shape"
   ]
  },
  {
   "cell_type": "code",
   "execution_count": null,
   "id": "0d108f2a",
   "metadata": {},
   "outputs": [],
   "source": [
    "trks.index.nunique()"
   ]
  },
  {
   "cell_type": "code",
   "execution_count": null,
   "id": "c00e8a44",
   "metadata": {
    "scrolled": false
   },
   "outputs": [],
   "source": [
    "trks.groupby('caseid')[['tid']].count().plot();"
   ]
  },
  {
   "cell_type": "code",
   "execution_count": null,
   "id": "06c0a398",
   "metadata": {},
   "outputs": [],
   "source": [
    "trks.groupby('caseid')[['tid']].count().hist();"
   ]
  },
  {
   "cell_type": "code",
   "execution_count": null,
   "id": "38f87fe6",
   "metadata": {
    "scrolled": false
   },
   "outputs": [],
   "source": [
    "trks.groupby('tname').count().sort_values(by='tid', ascending=False)"
   ]
  },
  {
   "cell_type": "markdown",
   "id": "314f863e",
   "metadata": {},
   "source": [
    "## Parameters of Interest"
   ]
  },
  {
   "cell_type": "markdown",
   "id": "756c6c46",
   "metadata": {},
   "source": [
    "### Hemodynamic Parameters Reference\n",
    "https://vitaldb.net/dataset/?query=overview#h.f7d712ycdpk2"
   ]
  },
  {
   "cell_type": "markdown",
   "id": "3c38343e",
   "metadata": {},
   "source": [
    "**Solar8000/ART_MBP**\n",
    "\n",
    "mean blood pressure\n",
    "\n",
    "Parameter, Description, Type/Hz, Unit\n",
    "\n",
    "Solar8000/ART_MBP, Mean arterial pressure, N, mmHg"
   ]
  },
  {
   "cell_type": "code",
   "execution_count": null,
   "id": "54659bf9",
   "metadata": {},
   "outputs": [],
   "source": [
    "trks[trks['tname'].str.contains('Solar8000/ART_MBP')].shape"
   ]
  },
  {
   "cell_type": "markdown",
   "id": "a905d673",
   "metadata": {},
   "source": [
    "**SNUADC/ART**\n",
    "\n",
    "arterial blood pressure waveform\n",
    "\n",
    "Parameter, Description, Type/Hz, Unit\n",
    "\n",
    "SNUADC/ART, Arterial pressure wave, W/500, mmHg"
   ]
  },
  {
   "cell_type": "code",
   "execution_count": null,
   "id": "1826f6de",
   "metadata": {},
   "outputs": [],
   "source": [
    "trks[trks['tname'].str.contains('SNUADC/ART')].shape"
   ]
  },
  {
   "cell_type": "markdown",
   "id": "b0e18c4d",
   "metadata": {},
   "source": [
    "**SNUADC/ECG_II**\n",
    "\n",
    "electrocardiogram waveform\n",
    "\n",
    "Parameter, Description, Type/Hz, Unit\n",
    "\n",
    "SNUADC/ECG_II, ECG lead II wave, W/500, mV"
   ]
  },
  {
   "cell_type": "code",
   "execution_count": null,
   "id": "dc1eb56f",
   "metadata": {},
   "outputs": [],
   "source": [
    "trks[trks['tname'].str.contains('SNUADC/ECG_II')].shape"
   ]
  },
  {
   "cell_type": "markdown",
   "id": "46a315f2",
   "metadata": {},
   "source": [
    "**BIS/EEG1_WAV**\n",
    "\n",
    "electroencephalogram waveform\n",
    "\n",
    "Parameter, Description, Type/Hz, Unit\n",
    "\n",
    "BIS/EEG1_WAV, EEG wave from channel 1, W/128, uV"
   ]
  },
  {
   "cell_type": "code",
   "execution_count": null,
   "id": "e0d8b5ba",
   "metadata": {},
   "outputs": [],
   "source": [
    "trks[trks['tname'].str.contains('BIS/EEG1_WAV')].shape"
   ]
  },
  {
   "cell_type": "markdown",
   "id": "7eaf487f",
   "metadata": {},
   "source": [
    "# Cases of Interest\n",
    "\n",
    "These are the subset of case ids for which modelling and analysis will be performed based upon inclusion criteria and waveform data availability."
   ]
  },
  {
   "cell_type": "code",
   "execution_count": null,
   "id": "2d5e4f95",
   "metadata": {},
   "outputs": [],
   "source": [
    "TRACK_NAMES = ['SNUADC/ART', 'SNUADC/ECG_II', 'BIS/EEG1_WAV']"
   ]
  },
  {
   "cell_type": "code",
   "execution_count": null,
   "id": "bd64895a",
   "metadata": {},
   "outputs": [],
   "source": [
    "# As in the paper, select cases which meet the following criteria:\n",
    "#\n",
    "# For patients, the inclusion criteria were as follows:\n",
    "# (1) adults (age >= 18)\n",
    "# (2) administered general anaesthesia\n",
    "# (3) undergone non-cardiac surgery. \n",
    "#\n",
    "# For waveform data, the inclusion criteria were as follows:\n",
    "# (1) no missing monitoring for ABP, ECG, and EEG waveforms\n",
    "# (2) no cases containing false events or non-events due to poor signal quality\n",
    "#     (checked in second stage of data preprocessing)\n",
    "\n",
    "# adult\n",
    "inclusion_1 = cases.loc[cases['age'] >= 18].index\n",
    "print(f'{len(cases)-len(inclusion_1)} cases excluded, {len(inclusion_1)} remaining due to age criteria')\n",
    "\n",
    "# general anesthesia\n",
    "inclusion_2 = cases.loc[cases['ane_type'] == 'General'].index\n",
    "print(f'{len(cases)-len(inclusion_2)} cases excluded, {len(inclusion_2)} remaining due to anesthesia criteria')\n",
    "\n",
    "# non-cardiac surgery\n",
    "inclusion_3 = cases.loc[\n",
    "    ~cases['opname'].str.contains(\"cardiac\", case=False)\n",
    "    & ~cases['opname'].str.contains(\"aneurysmal\", case=False)\n",
    "].index\n",
    "print(f'{len(cases)-len(inclusion_3)} cases excluded, {len(inclusion_3)} remaining due to non-cardiac surgery criteria')\n",
    "\n",
    "# ABP, ECG, EEG waveforms\n",
    "TRACK_NAMES = ['SNUADC/ART', 'SNUADC/ECG_II', 'BIS/EEG1_WAV']\n",
    "inclusion_4 = trks.loc[trks['tname'].isin(TRACK_NAMES)].index.value_counts()\n",
    "inclusion_4 = inclusion_4[inclusion_4 == len(TRACK_NAMES)].index\n",
    "print(f'{len(cases)-len(inclusion_4)} cases excluded, {len(inclusion_4)} remaining due to missing waveform data')\n",
    "\n",
    "cases_of_interest_idx = inclusion_1 \\\n",
    "    .intersection(inclusion_2) \\\n",
    "    .intersection(inclusion_3) \\\n",
    "    .intersection(inclusion_4)\n",
    "\n",
    "cases_of_interest = cases.loc[cases_of_interest_idx]\n",
    "\n",
    "print()\n",
    "print(f'{cases_of_interest_idx.shape[0]} out of {cases.shape[0]} total cases remaining after exclusions applied')"
   ]
  },
  {
   "cell_type": "code",
   "execution_count": null,
   "id": "2b5836e7",
   "metadata": {},
   "outputs": [],
   "source": [
    "cases_of_interest.head(n=5)"
   ]
  },
  {
   "cell_type": "markdown",
   "id": "fd715491",
   "metadata": {},
   "source": [
    "# Tracks of Interest\n",
    "\n",
    "These are the subset of tracks (waveforms) for the cases of interest identified above."
   ]
  },
  {
   "cell_type": "code",
   "execution_count": null,
   "id": "d3116635",
   "metadata": {},
   "outputs": [],
   "source": [
    "# A single case maps to one or more waveform tracks. Select only the tracks required for analysis.\n",
    "trks_of_interest = trks.loc[cases_of_interest_idx][trks.loc[cases_of_interest_idx]['tname'].isin(TRACK_NAMES)]\n",
    "trks_of_interest.shape"
   ]
  },
  {
   "cell_type": "code",
   "execution_count": null,
   "id": "f664cec2",
   "metadata": {},
   "outputs": [],
   "source": [
    "trks_of_interest.head(n=5)"
   ]
  },
  {
   "cell_type": "code",
   "execution_count": null,
   "id": "7f9d9170",
   "metadata": {
    "scrolled": true
   },
   "outputs": [],
   "source": [
    "trks_of_interest_idx = trks_of_interest.set_index('tid').index\n",
    "trks_of_interest_idx.shape"
   ]
  },
  {
   "cell_type": "markdown",
   "id": "3feb1c3a",
   "metadata": {},
   "source": [
    "## Build Tracks Cache for Local Processing\n",
    "\n",
    "Tracks data are large and therefore expensive to download every time used.\n",
    "By default, the vital file format stores all tracks for each case internally. Since only certain tracks per case are required, each vital file can be further truncated to only store the tracks for needed waveforms."
   ]
  },
  {
   "cell_type": "code",
   "execution_count": null,
   "id": "ad4ca413",
   "metadata": {},
   "outputs": [],
   "source": [
    "# Maximum number of cases of interest for which to download data.\n",
    "# Set to a small value for demo purposes, else set to None to disable and download all.\n",
    "MAX_CASES = None\n",
    "#MAX_CASES = 10"
   ]
  },
  {
   "cell_type": "code",
   "execution_count": null,
   "id": "0da28707",
   "metadata": {
    "scrolled": true
   },
   "outputs": [],
   "source": [
    "# Ensure the full vital file dataset is available for cases of interest.\n",
    "count_downloaded = 0\n",
    "count_present = 0\n",
    "\n",
    "#for i, idx in enumerate(cases.index):\n",
    "for i, idx in enumerate(cases_of_interest_idx):\n",
    "    if MAX_CASES and i >= MAX_CASES:\n",
    "        break\n",
    "\n",
    "    full_path = f'{VITALDB_CACHE}/{VITAL_ALL}/{idx:04d}.vital'\n",
    "    if not os.path.isfile(full_path):\n",
    "        print(f'Missing vital file: {full_path}')\n",
    "        # Download and save the file.\n",
    "        vf = vitaldb.VitalFile(idx)\n",
    "        vf.to_vital(full_path)\n",
    "        count_downloaded += 1\n",
    "    else:\n",
    "        count_present += 1\n",
    "\n",
    "print()\n",
    "print(f'Count of cases of interest:           {cases_of_interest_idx.shape[0]}')\n",
    "print(f'Count of vital files downloaded:      {count_downloaded}')\n",
    "print(f'Count of vital files already present: {count_present}')"
   ]
  },
  {
   "cell_type": "code",
   "execution_count": null,
   "id": "b753e071",
   "metadata": {
    "scrolled": true
   },
   "outputs": [],
   "source": [
    "# Convert vital files to \"mini\" versions including only the subset of tracks based on TRACK_NAMES defined above.\n",
    "# Only perform conversion for the cases of interest.\n",
    "# NOTE: If this cell is interrupted, it can be restarted and will continue where it left off.\n",
    "count_minified = 0\n",
    "count_present = 0\n",
    "\n",
    "for i, idx in enumerate(cases_of_interest_idx):\n",
    "    if MAX_CASES and i >= MAX_CASES:\n",
    "        break\n",
    "    \n",
    "    full_path = f'{VITALDB_CACHE}/{VITAL_ALL}/{idx:04d}.vital'\n",
    "    mini_path = f'{VITALDB_CACHE}/{VITAL_MINI}/{idx:04d}_mini.vital'\n",
    "    if not os.path.isfile(mini_path):\n",
    "        print(f'Creating mini vital file: {idx}')\n",
    "        vf = vitaldb.VitalFile(full_path, TRACK_NAMES)\n",
    "        vf.to_vital(mini_path)\n",
    "        count_minified += 1\n",
    "    else:\n",
    "        count_present += 1\n",
    "\n",
    "print()\n",
    "print(f'Count of cases of interest:           {cases_of_interest_idx.shape[0]}')\n",
    "print(f'Count of vital files minified:        {count_minified}')\n",
    "print(f'Count of vital files already present: {count_present}')"
   ]
  },
  {
   "cell_type": "markdown",
   "id": "dcd3e558",
   "metadata": {},
   "source": [
    "# Track Plotting Examples\n",
    "\n",
    "These examples show multiple ways of accessing the same track data."
   ]
  },
  {
   "cell_type": "code",
   "execution_count": null,
   "id": "cb03a3b9",
   "metadata": {},
   "outputs": [],
   "source": [
    "tmp_vf_path = f'{VITALDB_CACHE}/{VITAL_MINI}/0001_mini.vital'"
   ]
  },
  {
   "cell_type": "code",
   "execution_count": null,
   "id": "d23639ec",
   "metadata": {},
   "outputs": [],
   "source": [
    "tmp_vf = vitaldb.VitalFile(tmp_vf_path)\n",
    "tmp_vf.get_track_names()"
   ]
  },
  {
   "cell_type": "markdown",
   "id": "d6bd451e",
   "metadata": {},
   "source": [
    "**`vitaldb.VitalFile.get_track_samples()`**"
   ]
  },
  {
   "cell_type": "code",
   "execution_count": null,
   "id": "56c726c2",
   "metadata": {},
   "outputs": [],
   "source": [
    "tmp_art_00 = tmp_vf.get_track_samples(TRACK_NAMES[0], 1/100)\n",
    "tmp_art_00.shape"
   ]
  },
  {
   "cell_type": "code",
   "execution_count": null,
   "id": "1c317f23",
   "metadata": {},
   "outputs": [],
   "source": [
    "plt.figure(figsize=(20, 5))\n",
    "plt.plot(tmp_art_00)\n",
    "plt.show()"
   ]
  },
  {
   "cell_type": "markdown",
   "id": "805639b2",
   "metadata": {},
   "source": [
    "**`vitaldb.VitalFile.to_numpy()`**"
   ]
  },
  {
   "cell_type": "code",
   "execution_count": null,
   "id": "298ab38d",
   "metadata": {},
   "outputs": [],
   "source": [
    "tmp_art_01 = tmp_vf.to_numpy(TRACK_NAMES[0], 1/100)\n",
    "tmp_art_01.shape"
   ]
  },
  {
   "cell_type": "code",
   "execution_count": null,
   "id": "4a249262",
   "metadata": {},
   "outputs": [],
   "source": [
    "plt.figure(figsize=(20, 5))\n",
    "plt.plot(tmp_art_01)\n",
    "plt.show()"
   ]
  },
  {
   "cell_type": "markdown",
   "id": "244c54c2",
   "metadata": {},
   "source": [
    "**`vitaldb.VitalFile.get_track_samples()`**"
   ]
  },
  {
   "cell_type": "code",
   "execution_count": null,
   "id": "02dbc7c9",
   "metadata": {},
   "outputs": [],
   "source": [
    "tmp_art_02 = tmp_vf.get_track_samples(TRACK_NAMES[0], 1/100)\n",
    "tmp_art_02.shape"
   ]
  },
  {
   "cell_type": "code",
   "execution_count": null,
   "id": "8302b28a",
   "metadata": {},
   "outputs": [],
   "source": [
    "plt.figure(figsize=(20, 5))\n",
    "plt.plot(tmp_art_02)\n",
    "plt.show()"
   ]
  },
  {
   "cell_type": "markdown",
   "id": "abb48a05",
   "metadata": {},
   "source": [
    "**`vitaldb.vital_recs()`**"
   ]
  },
  {
   "cell_type": "code",
   "execution_count": null,
   "id": "dc68e8cc",
   "metadata": {},
   "outputs": [],
   "source": [
    "tmp_art_03 = vitaldb.vital_recs(tmp_vf_path, TRACK_NAMES[0], 1/100)\n",
    "tmp_art_03.shape"
   ]
  },
  {
   "cell_type": "code",
   "execution_count": null,
   "id": "d17ef2e8",
   "metadata": {},
   "outputs": [],
   "source": [
    "plt.figure(figsize=(20, 5))\n",
    "plt.plot(tmp_art_03)\n",
    "plt.show()"
   ]
  },
  {
   "cell_type": "markdown",
   "id": "3739c50e",
   "metadata": {},
   "source": [
    "**`vitaldb.dataset.load_trk()`**\n",
    "\n",
    "NOTE: This downloads a track based on raw id. Should not be needed, but showing how to do it."
   ]
  },
  {
   "cell_type": "code",
   "execution_count": null,
   "id": "f8c152a9",
   "metadata": {
    "scrolled": true
   },
   "outputs": [],
   "source": [
    "SHOW_TRAK_DOWNLOAD = False\n",
    "\n",
    "if SHOW_TRAK_DOWNLOAD:\n",
    "    case_0001_trk_art_id = '724cdd7184d7886b8f7de091c5b135bd01949959'\n",
    "    tmp_art_04 = vitaldb.dataset.load_trk(case_0001_trk_art_id, 1/100)\n",
    "    print(tmp_art_04.shape)\n",
    "    \n",
    "    plt.figure(figsize=(20, 5))\n",
    "    plt.plot(tmp_art_04)\n",
    "    plt.show()\n",
    "else:\n",
    "    print('Manual track download example skipped.')"
   ]
  },
  {
   "cell_type": "markdown",
   "id": "75720968",
   "metadata": {},
   "source": [
    "# One Minute ABP Extraction"
   ]
  },
  {
   "cell_type": "code",
   "execution_count": null,
   "id": "e9e22fbe",
   "metadata": {},
   "outputs": [],
   "source": []
  }
 ],
 "metadata": {
  "kernelspec": {
   "display_name": "Python 3 (ipykernel)",
   "language": "python",
   "name": "python3"
  },
  "language_info": {
   "codemirror_mode": {
    "name": "ipython",
    "version": 3
   },
   "file_extension": ".py",
   "mimetype": "text/x-python",
   "name": "python",
   "nbconvert_exporter": "python",
   "pygments_lexer": "ipython3",
   "version": "3.11.6"
  }
 },
 "nbformat": 4,
 "nbformat_minor": 5
}
