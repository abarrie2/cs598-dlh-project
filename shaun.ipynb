{
 "cells": [
  {
   "cell_type": "code",
   "execution_count": 1,
   "id": "c8374a6b",
   "metadata": {},
   "outputs": [],
   "source": [
    "import numpy as np\n",
    "import pandas as pd\n",
    "import matplotlib.pyplot as plt\n",
    "import vitaldb"
   ]
  },
  {
   "cell_type": "markdown",
   "id": "0e978f49",
   "metadata": {},
   "source": [
    "# Set Up Local Data"
   ]
  },
  {
   "cell_type": "code",
   "execution_count": 20,
   "id": "36b97985",
   "metadata": {},
   "outputs": [],
   "source": [
    "# Todo, download cache local csv of frequently used"
   ]
  },
  {
   "cell_type": "markdown",
   "id": "dc1fdf3c",
   "metadata": {},
   "source": [
    "# Cases"
   ]
  },
  {
   "cell_type": "code",
   "execution_count": 8,
   "id": "69cf5a63",
   "metadata": {
    "scrolled": true
   },
   "outputs": [
    {
     "data": {
      "text/plain": [
       "(6388, 73)"
      ]
     },
     "execution_count": 8,
     "metadata": {},
     "output_type": "execute_result"
    }
   ],
   "source": [
    "cases = pd.read_csv('vitaldb/cases.csv')\n",
    "cases = cases.set_index('caseid')\n",
    "cases.shape"
   ]
  },
  {
   "cell_type": "code",
   "execution_count": 9,
   "id": "0b51bdc2",
   "metadata": {},
   "outputs": [
    {
     "data": {
      "text/plain": [
       "6388"
      ]
     },
     "execution_count": 9,
     "metadata": {},
     "output_type": "execute_result"
    }
   ],
   "source": [
    "cases.index.nunique()"
   ]
  },
  {
   "cell_type": "code",
   "execution_count": 6,
   "id": "e6978396",
   "metadata": {},
   "outputs": [
    {
     "data": {
      "text/html": [
       "<div>\n",
       "<style scoped>\n",
       "    .dataframe tbody tr th:only-of-type {\n",
       "        vertical-align: middle;\n",
       "    }\n",
       "\n",
       "    .dataframe tbody tr th {\n",
       "        vertical-align: top;\n",
       "    }\n",
       "\n",
       "    .dataframe thead th {\n",
       "        text-align: right;\n",
       "    }\n",
       "</style>\n",
       "<table border=\"1\" class=\"dataframe\">\n",
       "  <thead>\n",
       "    <tr style=\"text-align: right;\">\n",
       "      <th></th>\n",
       "      <th>subjectid</th>\n",
       "      <th>casestart</th>\n",
       "      <th>caseend</th>\n",
       "      <th>anestart</th>\n",
       "      <th>aneend</th>\n",
       "      <th>opstart</th>\n",
       "      <th>opend</th>\n",
       "      <th>adm</th>\n",
       "      <th>dis</th>\n",
       "      <th>icu_days</th>\n",
       "      <th>...</th>\n",
       "      <th>intraop_colloid</th>\n",
       "      <th>intraop_ppf</th>\n",
       "      <th>intraop_mdz</th>\n",
       "      <th>intraop_ftn</th>\n",
       "      <th>intraop_rocu</th>\n",
       "      <th>intraop_vecu</th>\n",
       "      <th>intraop_eph</th>\n",
       "      <th>intraop_phe</th>\n",
       "      <th>intraop_epi</th>\n",
       "      <th>intraop_ca</th>\n",
       "    </tr>\n",
       "    <tr>\n",
       "      <th>caseid</th>\n",
       "      <th></th>\n",
       "      <th></th>\n",
       "      <th></th>\n",
       "      <th></th>\n",
       "      <th></th>\n",
       "      <th></th>\n",
       "      <th></th>\n",
       "      <th></th>\n",
       "      <th></th>\n",
       "      <th></th>\n",
       "      <th></th>\n",
       "      <th></th>\n",
       "      <th></th>\n",
       "      <th></th>\n",
       "      <th></th>\n",
       "      <th></th>\n",
       "      <th></th>\n",
       "      <th></th>\n",
       "      <th></th>\n",
       "      <th></th>\n",
       "      <th></th>\n",
       "    </tr>\n",
       "  </thead>\n",
       "  <tbody>\n",
       "    <tr>\n",
       "      <th>1</th>\n",
       "      <td>5955</td>\n",
       "      <td>0</td>\n",
       "      <td>11542</td>\n",
       "      <td>-552</td>\n",
       "      <td>10848.0</td>\n",
       "      <td>1668</td>\n",
       "      <td>10368</td>\n",
       "      <td>-236220</td>\n",
       "      <td>627780</td>\n",
       "      <td>0</td>\n",
       "      <td>...</td>\n",
       "      <td>0</td>\n",
       "      <td>120</td>\n",
       "      <td>0.0</td>\n",
       "      <td>100</td>\n",
       "      <td>70</td>\n",
       "      <td>0</td>\n",
       "      <td>10</td>\n",
       "      <td>0</td>\n",
       "      <td>0</td>\n",
       "      <td>0</td>\n",
       "    </tr>\n",
       "    <tr>\n",
       "      <th>2</th>\n",
       "      <td>2487</td>\n",
       "      <td>0</td>\n",
       "      <td>15741</td>\n",
       "      <td>-1039</td>\n",
       "      <td>14921.0</td>\n",
       "      <td>1721</td>\n",
       "      <td>14621</td>\n",
       "      <td>-221160</td>\n",
       "      <td>1506840</td>\n",
       "      <td>0</td>\n",
       "      <td>...</td>\n",
       "      <td>0</td>\n",
       "      <td>150</td>\n",
       "      <td>0.0</td>\n",
       "      <td>0</td>\n",
       "      <td>100</td>\n",
       "      <td>0</td>\n",
       "      <td>20</td>\n",
       "      <td>0</td>\n",
       "      <td>0</td>\n",
       "      <td>0</td>\n",
       "    </tr>\n",
       "    <tr>\n",
       "      <th>3</th>\n",
       "      <td>2861</td>\n",
       "      <td>0</td>\n",
       "      <td>4394</td>\n",
       "      <td>-590</td>\n",
       "      <td>4210.0</td>\n",
       "      <td>1090</td>\n",
       "      <td>3010</td>\n",
       "      <td>-218640</td>\n",
       "      <td>40560</td>\n",
       "      <td>0</td>\n",
       "      <td>...</td>\n",
       "      <td>0</td>\n",
       "      <td>0</td>\n",
       "      <td>0.0</td>\n",
       "      <td>0</td>\n",
       "      <td>50</td>\n",
       "      <td>0</td>\n",
       "      <td>0</td>\n",
       "      <td>0</td>\n",
       "      <td>0</td>\n",
       "      <td>0</td>\n",
       "    </tr>\n",
       "    <tr>\n",
       "      <th>4</th>\n",
       "      <td>1903</td>\n",
       "      <td>0</td>\n",
       "      <td>20990</td>\n",
       "      <td>-778</td>\n",
       "      <td>20222.0</td>\n",
       "      <td>2522</td>\n",
       "      <td>17822</td>\n",
       "      <td>-201120</td>\n",
       "      <td>576480</td>\n",
       "      <td>1</td>\n",
       "      <td>...</td>\n",
       "      <td>0</td>\n",
       "      <td>80</td>\n",
       "      <td>0.0</td>\n",
       "      <td>100</td>\n",
       "      <td>100</td>\n",
       "      <td>0</td>\n",
       "      <td>50</td>\n",
       "      <td>0</td>\n",
       "      <td>0</td>\n",
       "      <td>0</td>\n",
       "    </tr>\n",
       "    <tr>\n",
       "      <th>5</th>\n",
       "      <td>4416</td>\n",
       "      <td>0</td>\n",
       "      <td>21531</td>\n",
       "      <td>-1009</td>\n",
       "      <td>22391.0</td>\n",
       "      <td>2591</td>\n",
       "      <td>20291</td>\n",
       "      <td>-67560</td>\n",
       "      <td>3734040</td>\n",
       "      <td>13</td>\n",
       "      <td>...</td>\n",
       "      <td>0</td>\n",
       "      <td>0</td>\n",
       "      <td>0.0</td>\n",
       "      <td>0</td>\n",
       "      <td>160</td>\n",
       "      <td>0</td>\n",
       "      <td>10</td>\n",
       "      <td>900</td>\n",
       "      <td>0</td>\n",
       "      <td>2100</td>\n",
       "    </tr>\n",
       "  </tbody>\n",
       "</table>\n",
       "<p>5 rows × 73 columns</p>\n",
       "</div>"
      ],
      "text/plain": [
       "        subjectid  casestart  caseend  anestart   aneend  opstart  opend  \\\n",
       "caseid                                                                     \n",
       "1            5955          0    11542      -552  10848.0     1668  10368   \n",
       "2            2487          0    15741     -1039  14921.0     1721  14621   \n",
       "3            2861          0     4394      -590   4210.0     1090   3010   \n",
       "4            1903          0    20990      -778  20222.0     2522  17822   \n",
       "5            4416          0    21531     -1009  22391.0     2591  20291   \n",
       "\n",
       "           adm      dis  icu_days  ...  intraop_colloid  intraop_ppf  \\\n",
       "caseid                             ...                                 \n",
       "1      -236220   627780         0  ...                0          120   \n",
       "2      -221160  1506840         0  ...                0          150   \n",
       "3      -218640    40560         0  ...                0            0   \n",
       "4      -201120   576480         1  ...                0           80   \n",
       "5       -67560  3734040        13  ...                0            0   \n",
       "\n",
       "       intraop_mdz  intraop_ftn  intraop_rocu  intraop_vecu  intraop_eph  \\\n",
       "caseid                                                                     \n",
       "1              0.0          100            70             0           10   \n",
       "2              0.0            0           100             0           20   \n",
       "3              0.0            0            50             0            0   \n",
       "4              0.0          100           100             0           50   \n",
       "5              0.0            0           160             0           10   \n",
       "\n",
       "        intraop_phe intraop_epi intraop_ca  \n",
       "caseid                                      \n",
       "1                 0           0          0  \n",
       "2                 0           0          0  \n",
       "3                 0           0          0  \n",
       "4                 0           0          0  \n",
       "5               900           0       2100  \n",
       "\n",
       "[5 rows x 73 columns]"
      ]
     },
     "execution_count": 6,
     "metadata": {},
     "output_type": "execute_result"
    }
   ],
   "source": [
    "cases.head()"
   ]
  },
  {
   "cell_type": "code",
   "execution_count": 7,
   "id": "0eeb1380",
   "metadata": {
    "scrolled": true
   },
   "outputs": [
    {
     "data": {
      "text/plain": [
       "sex\n",
       "M    3243\n",
       "F    3145\n",
       "Name: count, dtype: int64"
      ]
     },
     "execution_count": 7,
     "metadata": {},
     "output_type": "execute_result"
    }
   ],
   "source": [
    "cases['sex'].value_counts()"
   ]
  },
  {
   "cell_type": "markdown",
   "id": "c071049a",
   "metadata": {},
   "source": [
    "# Tracks"
   ]
  },
  {
   "cell_type": "code",
   "execution_count": 11,
   "id": "2f4331bc",
   "metadata": {},
   "outputs": [
    {
     "data": {
      "text/plain": [
       "(486449, 2)"
      ]
     },
     "execution_count": 11,
     "metadata": {},
     "output_type": "execute_result"
    }
   ],
   "source": [
    "trks = pd.read_csv('vitaldb/trks.csv')\n",
    "trks = trks.set_index('caseid')\n",
    "trks.shape"
   ]
  },
  {
   "cell_type": "code",
   "execution_count": 12,
   "id": "0d108f2a",
   "metadata": {},
   "outputs": [
    {
     "data": {
      "text/plain": [
       "6388"
      ]
     },
     "execution_count": 12,
     "metadata": {},
     "output_type": "execute_result"
    }
   ],
   "source": [
    "trks.index.nunique()"
   ]
  },
  {
   "cell_type": "code",
   "execution_count": 15,
   "id": "c00e8a44",
   "metadata": {
    "scrolled": false
   },
   "outputs": [
    {
     "data": {
      "image/png": "[encoded data removed]",
      "text/plain": [
       "<Figure size 640x480 with 1 Axes>"
      ]
     },
     "metadata": {},
     "output_type": "display_data"
    }
   ],
   "source": [
    "trks.groupby('caseid')[['tid']].count().plot();"
   ]
  },
  {
   "cell_type": "code",
   "execution_count": 16,
   "id": "06c0a398",
   "metadata": {},
   "outputs": [
    {
     "data": {
      "image/png": "[encoded data removed]",
      "text/plain": [
       "<Figure size 640x480 with 1 Axes>"
      ]
     },
     "metadata": {},
     "output_type": "display_data"
    }
   ],
   "source": [
    "trks.groupby('caseid')[['tid']].count().hist();"
   ]
  },
  {
   "cell_type": "code",
   "execution_count": 24,
   "id": "38f87fe6",
   "metadata": {
    "scrolled": false
   },
   "outputs": [
    {
     "data": {
      "text/html": [
       "<div>\n",
       "<style scoped>\n",
       "    .dataframe tbody tr th:only-of-type {\n",
       "        vertical-align: middle;\n",
       "    }\n",
       "\n",
       "    .dataframe tbody tr th {\n",
       "        vertical-align: top;\n",
       "    }\n",
       "\n",
       "    .dataframe thead th {\n",
       "        text-align: right;\n",
       "    }\n",
       "</style>\n",
       "<table border=\"1\" class=\"dataframe\">\n",
       "  <thead>\n",
       "    <tr style=\"text-align: right;\">\n",
       "      <th></th>\n",
       "      <th>tid</th>\n",
       "    </tr>\n",
       "    <tr>\n",
       "      <th>tname</th>\n",
       "      <th></th>\n",
       "    </tr>\n",
       "  </thead>\n",
       "  <tbody>\n",
       "    <tr>\n",
       "      <th>Solar8000/HR</th>\n",
       "      <td>6387</td>\n",
       "    </tr>\n",
       "    <tr>\n",
       "      <th>Solar8000/PLETH_SPO2</th>\n",
       "      <td>6386</td>\n",
       "    </tr>\n",
       "    <tr>\n",
       "      <th>Solar8000/PLETH_HR</th>\n",
       "      <td>6386</td>\n",
       "    </tr>\n",
       "    <tr>\n",
       "      <th>Primus/CO2</th>\n",
       "      <td>6362</td>\n",
       "    </tr>\n",
       "    <tr>\n",
       "      <th>Primus/PAMB_MBAR</th>\n",
       "      <td>6361</td>\n",
       "    </tr>\n",
       "    <tr>\n",
       "      <th>...</th>\n",
       "      <td>...</td>\n",
       "    </tr>\n",
       "    <tr>\n",
       "      <th>Orchestra/AMD_VOL</th>\n",
       "      <td>1</td>\n",
       "    </tr>\n",
       "    <tr>\n",
       "      <th>Solar8000/ST_V5</th>\n",
       "      <td>1</td>\n",
       "    </tr>\n",
       "    <tr>\n",
       "      <th>Orchestra/NPS_VOL</th>\n",
       "      <td>1</td>\n",
       "    </tr>\n",
       "    <tr>\n",
       "      <th>Orchestra/AMD_RATE</th>\n",
       "      <td>1</td>\n",
       "    </tr>\n",
       "    <tr>\n",
       "      <th>Orchestra/VEC_VOL</th>\n",
       "      <td>1</td>\n",
       "    </tr>\n",
       "  </tbody>\n",
       "</table>\n",
       "<p>196 rows × 1 columns</p>\n",
       "</div>"
      ],
      "text/plain": [
       "                       tid\n",
       "tname                     \n",
       "Solar8000/HR          6387\n",
       "Solar8000/PLETH_SPO2  6386\n",
       "Solar8000/PLETH_HR    6386\n",
       "Primus/CO2            6362\n",
       "Primus/PAMB_MBAR      6361\n",
       "...                    ...\n",
       "Orchestra/AMD_VOL        1\n",
       "Solar8000/ST_V5          1\n",
       "Orchestra/NPS_VOL        1\n",
       "Orchestra/AMD_RATE       1\n",
       "Orchestra/VEC_VOL        1\n",
       "\n",
       "[196 rows x 1 columns]"
      ]
     },
     "execution_count": 24,
     "metadata": {},
     "output_type": "execute_result"
    }
   ],
   "source": [
    "trks.groupby('tname').count().sort_values(by='tid', ascending=False)"
   ]
  },
  {
   "cell_type": "markdown",
   "id": "314f863e",
   "metadata": {},
   "source": [
    "## Cases of Interest"
   ]
  },
  {
   "cell_type": "markdown",
   "id": "756c6c46",
   "metadata": {},
   "source": [
    "### Hemodynamic Parameters\n",
    "https://vitaldb.net/dataset/?query=overview#h.f7d712ycdpk2"
   ]
  },
  {
   "cell_type": "markdown",
   "id": "3c38343e",
   "metadata": {},
   "source": [
    "**Solar8000/ART_MBP**\n",
    "\n",
    "mean blood pressure\n",
    "\n",
    "Parameter, Description, Type/Hz, Unit\n",
    "\n",
    "Solar8000/ART_MBP, Mean arterial pressure, N, mmHg"
   ]
  },
  {
   "cell_type": "code",
   "execution_count": 19,
   "id": "54659bf9",
   "metadata": {},
   "outputs": [
    {
     "data": {
      "text/plain": [
       "(3724, 2)"
      ]
     },
     "execution_count": 19,
     "metadata": {},
     "output_type": "execute_result"
    }
   ],
   "source": [
    "trks[trks['tname'].str.contains('Solar8000/ART_MBP')].shape"
   ]
  },
  {
   "cell_type": "markdown",
   "id": "a905d673",
   "metadata": {},
   "source": [
    "**SNUADC/ART**\n",
    "\n",
    "arterial blood pressure waveform\n",
    "\n",
    "Parameter, Description, Type/Hz, Unit\n",
    "\n",
    "SNUADC/ART, Arterial pressure wave, W/500, mmHg"
   ]
  },
  {
   "cell_type": "code",
   "execution_count": 18,
   "id": "1826f6de",
   "metadata": {},
   "outputs": [
    {
     "data": {
      "text/plain": [
       "(3645, 2)"
      ]
     },
     "execution_count": 18,
     "metadata": {},
     "output_type": "execute_result"
    }
   ],
   "source": [
    "trks[trks['tname'].str.contains('SNUADC/ART')].shape"
   ]
  },
  {
   "cell_type": "markdown",
   "id": "b0e18c4d",
   "metadata": {},
   "source": [
    "**SNUADC/ECG_II**\n",
    "\n",
    "electrocardiogram waveform\n",
    "\n",
    "Parameter, Description, Type/Hz, Unit\n",
    "\n",
    "SNUADC/ECG_II, ECG lead II wave, W/500, mV"
   ]
  },
  {
   "cell_type": "code",
   "execution_count": 25,
   "id": "dc1eb56f",
   "metadata": {},
   "outputs": [
    {
     "data": {
      "text/plain": [
       "(6355, 2)"
      ]
     },
     "execution_count": 25,
     "metadata": {},
     "output_type": "execute_result"
    }
   ],
   "source": [
    "trks[trks['tname'].str.contains('SNUADC/ECG_II')].shape"
   ]
  },
  {
   "cell_type": "markdown",
   "id": "46a315f2",
   "metadata": {},
   "source": [
    "**BIS/EEG1_WAV**\n",
    "\n",
    "electroencephalogram waveform\n",
    "\n",
    "Parameter, Description, Type/Hz, Unit\n",
    "\n",
    "BIS/EEG1_WAV, EEG wave from channel 1, W/128, uV"
   ]
  },
  {
   "cell_type": "code",
   "execution_count": 26,
   "id": "e0d8b5ba",
   "metadata": {},
   "outputs": [
    {
     "data": {
      "text/plain": [
       "(5871, 2)"
      ]
     },
     "execution_count": 26,
     "metadata": {},
     "output_type": "execute_result"
    }
   ],
   "source": [
    "trks[trks['tname'].str.contains('BIS/EEG1_WAV')].shape"
   ]
  },
  {
   "cell_type": "markdown",
   "id": "7eaf487f",
   "metadata": {},
   "source": [
    "## Cases of Interest"
   ]
  },
  {
   "cell_type": "code",
   "execution_count": 30,
   "id": "7349f9d6",
   "metadata": {},
   "outputs": [
    {
     "data": {
      "text/plain": [
       "3295"
      ]
     },
     "execution_count": 30,
     "metadata": {},
     "output_type": "execute_result"
    }
   ],
   "source": [
    "t = trks.reset_index()\n",
    "c = cases.reset_index()\n",
    "\n",
    "coi = list(\n",
    "    set(t.loc[t['tname'] == 'SNUADC/ART', 'caseid']) & \n",
    "    set(t.loc[t['tname'] == 'SNUADC/ECG_II', 'caseid']) & \n",
    "    set(t.loc[t['tname'] == 'BIS/EEG1_WAV', 'caseid']) & \n",
    "    set(c.loc[c['age'] > 18, 'caseid']) & \n",
    "    set(c.loc[c['ane_type'] == 'General', 'caseid'])\n",
    ")\n",
    "\n",
    "len(coi)"
   ]
  },
  {
   "cell_type": "code",
   "execution_count": null,
   "id": "bd64895a",
   "metadata": {},
   "outputs": [],
   "source": []
  },
  {
   "cell_type": "code",
   "execution_count": null,
   "id": "916977b3",
   "metadata": {
    "scrolled": true
   },
   "outputs": [],
   "source": [
    "!ls -l"
   ]
  },
  {
   "cell_type": "code",
   "execution_count": null,
   "id": "23e432db",
   "metadata": {},
   "outputs": [],
   "source": [
    "!ls -l ./tracks"
   ]
  },
  {
   "cell_type": "code",
   "execution_count": null,
   "id": "6708b02c",
   "metadata": {},
   "outputs": [],
   "source": [
    "cases.loc[42]"
   ]
  },
  {
   "cell_type": "code",
   "execution_count": null,
   "id": "e3aadca9",
   "metadata": {
    "scrolled": true
   },
   "outputs": [],
   "source": [
    "t1 = vitaldb.vital_trks(42)"
   ]
  },
  {
   "cell_type": "code",
   "execution_count": null,
   "id": "41b70703",
   "metadata": {},
   "outputs": [],
   "source": [
    "v = vitaldb.VitalFile(42)"
   ]
  },
  {
   "cell_type": "code",
   "execution_count": null,
   "id": "b1d04d13",
   "metadata": {
    "scrolled": true
   },
   "outputs": [],
   "source": []
  },
  {
   "cell_type": "code",
   "execution_count": null,
   "id": "55eef95a",
   "metadata": {
    "scrolled": true
   },
   "outputs": [],
   "source": [
    "trks.loc[42]"
   ]
  },
  {
   "cell_type": "code",
   "execution_count": null,
   "id": "1d2ce740",
   "metadata": {},
   "outputs": [],
   "source": [
    "vv = vitaldb.read_csv('./tracks/ad13b2c39b19193c8ae4a2de4f8315f18d61a57e.csv')\n",
    "vv"
   ]
  },
  {
   "cell_type": "code",
   "execution_count": null,
   "id": "7d58f4b3",
   "metadata": {
    "scrolled": true
   },
   "outputs": [],
   "source": [
    "track_names = ['BIS/BIS']\n",
    "#vv = vitaldb.VitalFile(1, track_names)\n",
    "#samples = vf.to_numpy(track_names, 1/100)\n",
    "samples = vv.to_numpy(track_names, interval=1/100)\n",
    "\n",
    "plt.figure(figsize=(20, 5))\n",
    "plt.plot(samples[:, 0])\n",
    "plt.show()"
   ]
  },
  {
   "cell_type": "code",
   "execution_count": null,
   "id": "91a43abc",
   "metadata": {},
   "outputs": [],
   "source": [
    "samples[:10]"
   ]
  },
  {
   "cell_type": "code",
   "execution_count": null,
   "id": "1bbc8ece",
   "metadata": {},
   "outputs": [],
   "source": [
    "!ls -l"
   ]
  },
  {
   "cell_type": "code",
   "execution_count": null,
   "id": "c9392aeb",
   "metadata": {},
   "outputs": [],
   "source": [
    "tpp = pd.read_csv('./teams_per_paper.csv')\n",
    "tpp.info()"
   ]
  },
  {
   "cell_type": "code",
   "execution_count": null,
   "id": "c2f40235",
   "metadata": {},
   "outputs": [],
   "source": [
    "tpp.hist()"
   ]
  },
  {
   "cell_type": "code",
   "execution_count": null,
   "id": "5d2b579a",
   "metadata": {},
   "outputs": [],
   "source": [
    "tpp.groupby('count').size()"
   ]
  }
 ],
 "metadata": {
  "kernelspec": {
   "display_name": "Python 3 (ipykernel)",
   "language": "python",
   "name": "python3"
  },
  "language_info": {
   "codemirror_mode": {
    "name": "ipython",
    "version": 3
   },
   "file_extension": ".py",
   "mimetype": "text/x-python",
   "name": "python",
   "nbconvert_exporter": "python",
   "pygments_lexer": "ipython3",
   "version": "3.11.6"
  }
 },
 "nbformat": 4,
 "nbformat_minor": 5
}
