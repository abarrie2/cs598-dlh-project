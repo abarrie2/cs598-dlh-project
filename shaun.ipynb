{
 "cells": [
  {
   "cell_type": "markdown",
   "id": "0",
   "metadata": {},
   "source": [
    "# Install Required Dependencies"
   ]
  },
  {
   "cell_type": "code",
   "execution_count": 1,
   "id": "1",
   "metadata": {
    "tags": []
   },
   "outputs": [
    {
     "name": "stdout",
     "output_type": "stream",
     "text": [
      "Requirement already satisfied: vitaldb in /Users/sphillips/bin/anaconda3/lib/python3.11/site-packages (1.4.7)\n",
      "Requirement already satisfied: numpy in /Users/sphillips/bin/anaconda3/lib/python3.11/site-packages (from vitaldb) (1.24.3)\n",
      "Requirement already satisfied: pandas in /Users/sphillips/bin/anaconda3/lib/python3.11/site-packages (from vitaldb) (2.0.3)\n",
      "Requirement already satisfied: requests in /Users/sphillips/bin/anaconda3/lib/python3.11/site-packages (from vitaldb) (2.31.0)\n",
      "Requirement already satisfied: wfdb in /Users/sphillips/bin/anaconda3/lib/python3.11/site-packages (from vitaldb) (4.1.2)\n",
      "Requirement already satisfied: python-dateutil>=2.8.2 in /Users/sphillips/bin/anaconda3/lib/python3.11/site-packages (from pandas->vitaldb) (2.8.2)\n",
      "Requirement already satisfied: pytz>=2020.1 in /Users/sphillips/bin/anaconda3/lib/python3.11/site-packages (from pandas->vitaldb) (2023.3.post1)\n",
      "Requirement already satisfied: tzdata>=2022.1 in /Users/sphillips/bin/anaconda3/lib/python3.11/site-packages (from pandas->vitaldb) (2023.3)\n",
      "Requirement already satisfied: charset-normalizer<4,>=2 in /Users/sphillips/bin/anaconda3/lib/python3.11/site-packages (from requests->vitaldb) (2.0.4)\n",
      "Requirement already satisfied: idna<4,>=2.5 in /Users/sphillips/bin/anaconda3/lib/python3.11/site-packages (from requests->vitaldb) (3.4)\n",
      "Requirement already satisfied: urllib3<3,>=1.21.1 in /Users/sphillips/bin/anaconda3/lib/python3.11/site-packages (from requests->vitaldb) (1.26.16)\n",
      "Requirement already satisfied: certifi>=2017.4.17 in /Users/sphillips/bin/anaconda3/lib/python3.11/site-packages (from requests->vitaldb) (2024.2.2)\n",
      "Requirement already satisfied: SoundFile>=0.10.0 in /Users/sphillips/bin/anaconda3/lib/python3.11/site-packages (from wfdb->vitaldb) (0.12.1)\n",
      "Requirement already satisfied: matplotlib>=3.2.2 in /Users/sphillips/bin/anaconda3/lib/python3.11/site-packages (from wfdb->vitaldb) (3.7.2)\n",
      "Requirement already satisfied: scipy>=1.0.0 in /Users/sphillips/bin/anaconda3/lib/python3.11/site-packages (from wfdb->vitaldb) (1.11.1)\n",
      "Requirement already satisfied: contourpy>=1.0.1 in /Users/sphillips/bin/anaconda3/lib/python3.11/site-packages (from matplotlib>=3.2.2->wfdb->vitaldb) (1.0.5)\n",
      "Requirement already satisfied: cycler>=0.10 in /Users/sphillips/bin/anaconda3/lib/python3.11/site-packages (from matplotlib>=3.2.2->wfdb->vitaldb) (0.11.0)\n",
      "Requirement already satisfied: fonttools>=4.22.0 in /Users/sphillips/bin/anaconda3/lib/python3.11/site-packages (from matplotlib>=3.2.2->wfdb->vitaldb) (4.25.0)\n",
      "Requirement already satisfied: kiwisolver>=1.0.1 in /Users/sphillips/bin/anaconda3/lib/python3.11/site-packages (from matplotlib>=3.2.2->wfdb->vitaldb) (1.4.4)\n",
      "Requirement already satisfied: packaging>=20.0 in /Users/sphillips/bin/anaconda3/lib/python3.11/site-packages (from matplotlib>=3.2.2->wfdb->vitaldb) (23.1)\n",
      "Requirement already satisfied: pillow>=6.2.0 in /Users/sphillips/bin/anaconda3/lib/python3.11/site-packages (from matplotlib>=3.2.2->wfdb->vitaldb) (9.4.0)\n",
      "Requirement already satisfied: pyparsing<3.1,>=2.3.1 in /Users/sphillips/bin/anaconda3/lib/python3.11/site-packages (from matplotlib>=3.2.2->wfdb->vitaldb) (3.0.9)\n",
      "Requirement already satisfied: six>=1.5 in /Users/sphillips/bin/anaconda3/lib/python3.11/site-packages (from python-dateutil>=2.8.2->pandas->vitaldb) (1.16.0)\n",
      "Requirement already satisfied: cffi>=1.0 in /Users/sphillips/bin/anaconda3/lib/python3.11/site-packages (from SoundFile>=0.10.0->wfdb->vitaldb) (1.15.1)\n",
      "Requirement already satisfied: pycparser in /Users/sphillips/bin/anaconda3/lib/python3.11/site-packages (from cffi>=1.0->SoundFile>=0.10.0->wfdb->vitaldb) (2.21)\n"
     ]
    }
   ],
   "source": [
    "!pip install vitaldb"
   ]
  },
  {
   "cell_type": "code",
   "execution_count": 2,
   "id": "2",
   "metadata": {},
   "outputs": [],
   "source": [
    "import datetime\n",
    "import os\n",
    "import random\n",
    "import time\n",
    "\n",
    "from timeit import default_timer as timer\n",
    "\n",
    "import numpy as np\n",
    "import pandas as pd\n",
    "import matplotlib.pyplot as plt\n",
    "import torch\n",
    "\n",
    "import vitaldb"
   ]
  },
  {
   "cell_type": "markdown",
   "id": "3",
   "metadata": {},
   "source": [
    "# Set Random Seed for Reproducibility"
   ]
  },
  {
   "cell_type": "code",
   "execution_count": 3,
   "id": "4",
   "metadata": {},
   "outputs": [],
   "source": [
    "seed = 42\n",
    "random.seed(seed)\n",
    "np.random.seed(seed)\n",
    "torch.manual_seed(seed)\n",
    "torch.use_deterministic_algorithms(True)\n",
    "os.environ['PYTHONASHSEED'] = str(seed)"
   ]
  },
  {
   "cell_type": "markdown",
   "id": "5",
   "metadata": {},
   "source": [
    "# Set Up Local Data Caches\n",
    "\n",
    "Since the VitalDB data is static, local copies are stored and reused to avoid expensive downloads and to speed up data processing.\n",
    "\n",
    "The default directory defined below is already in the project `.gitignore` file. If later modified, it should also be added to the project `.gitignore`."
   ]
  },
  {
   "cell_type": "code",
   "execution_count": 4,
   "id": "6",
   "metadata": {},
   "outputs": [],
   "source": [
    "VITALDB_CACHE = './vitaldb_cache'\n",
    "VITAL_ALL = 'vital_all'\n",
    "VITAL_MINI = 'vital_mini'\n",
    "VITAL_METADATA = 'metadata'"
   ]
  },
  {
   "cell_type": "code",
   "execution_count": 5,
   "id": "7",
   "metadata": {},
   "outputs": [
    {
     "name": "stdout",
     "output_type": "stream",
     "text": [
      "total 77437752\r\n",
      "drwxr-xr-x     4 sphillips  staff          128 Apr  7 23:38 \u001b[34mdocs\u001b[m\u001b[m\r\n",
      "drwxr-xr-x     4 sphillips  staff          128 Apr  7 23:03 \u001b[34mmetadata\u001b[m\u001b[m\r\n",
      "drwxr-xr-x     6 sphillips  staff          192 Apr  7 23:12 \u001b[34mosfs\u001b[m\u001b[m\r\n",
      "drwx------@ 6390 sphillips  staff       204480 Apr  7 17:38 \u001b[34mvital_all\u001b[m\u001b[m\r\n",
      "drwxr-xr-x  3299 sphillips  staff       105568 Apr  7 23:15 \u001b[34mvital_mini\u001b[m\u001b[m\r\n",
      "-rw-r--r--     1 sphillips  staff  39648128512 Apr  7 22:39 vital_mini.tar\r\n"
     ]
    }
   ],
   "source": [
    "!mkdir -p $VITALDB_CACHE\n",
    "!mkdir -p $VITALDB_CACHE/$VITAL_ALL\n",
    "!mkdir -p $VITALDB_CACHE/$VITAL_MINI\n",
    "!mkdir -p $VITALDB_CACHE/$VITAL_METADATA\n",
    "!ls -l $VITALDB_CACHE"
   ]
  },
  {
   "cell_type": "markdown",
   "id": "8",
   "metadata": {},
   "source": [
    "# OSFS Bulk Data Download\n",
    "\n",
    "**This step is not required, but will significantly speed up downstream processing and avoid a high volume of API requests to the VitalDB web site.**\n",
    "\n",
    "The cache population code checks if OSFS bulk download data of VitalDB vital files is locally available.\n",
    "\n",
    "- Manually downloaded the OSF Store archives from the following site: https://osf.io/dtc45/\n",
    "    - `Vital Files 0001-2000`\n",
    "    - `Vital Files 2001-4000`\n",
    "    - `Vital Files 4001-6388`\n",
    "- Once the `OSF Storage (United States)` link is clicked a `Download as zip` link will appear.\n",
    "- Once downloaded, extract each of the 3 zip archives.\n",
    "- Move all files from each of the unzip directories into the `${VITALDB_CACHE}/${VITAL_ALL}` directory."
   ]
  },
  {
   "cell_type": "code",
   "execution_count": 6,
   "id": "9",
   "metadata": {},
   "outputs": [],
   "source": [
    "# Returns the Pandas DataFrame for the specified dataset.\n",
    "#   One of 'cases', 'labs', or 'trks'\n",
    "# If the file exists locally, create and return the DataFrame.\n",
    "# Else, download and cache the csv first, then return the DataFrame.\n",
    "def vitaldb_dataframe_loader(dataset_name):\n",
    "    if dataset_name not in ['cases', 'labs', 'trks']:\n",
    "        raise ValueError(f'Invalid dataset name: {dataset_name}')\n",
    "    file_path = f'{VITALDB_CACHE}/{VITAL_METADATA}/{dataset_name}.csv'\n",
    "    if os.path.isfile(file_path):\n",
    "        print(f'{dataset_name}.csv exists locally.')\n",
    "        df = pd.read_csv(file_path)\n",
    "        return df\n",
    "    else:\n",
    "        print(f'downloading {dataset_name} and storing in the local cache for future reuse.')\n",
    "        df = pd.read_csv(f'https://api.vitaldb.net/{dataset_name}')\n",
    "        df.to_csv(file_path, index=False)\n",
    "        return df"
   ]
  },
  {
   "cell_type": "markdown",
   "id": "10",
   "metadata": {},
   "source": [
    "# Cases"
   ]
  },
  {
   "cell_type": "code",
   "execution_count": 7,
   "id": "11",
   "metadata": {},
   "outputs": [
    {
     "name": "stdout",
     "output_type": "stream",
     "text": [
      "cases.csv exists locally.\n"
     ]
    },
    {
     "data": {
      "text/plain": [
       "(6388, 73)"
      ]
     },
     "execution_count": 7,
     "metadata": {},
     "output_type": "execute_result"
    }
   ],
   "source": [
    "cases = vitaldb_dataframe_loader('cases')\n",
    "cases = cases.set_index('caseid')\n",
    "cases.shape"
   ]
  },
  {
   "cell_type": "code",
   "execution_count": 8,
   "id": "12",
   "metadata": {},
   "outputs": [
    {
     "data": {
      "text/plain": [
       "6388"
      ]
     },
     "execution_count": 8,
     "metadata": {},
     "output_type": "execute_result"
    }
   ],
   "source": [
    "cases.index.nunique()"
   ]
  },
  {
   "cell_type": "code",
   "execution_count": 9,
   "id": "13",
   "metadata": {},
   "outputs": [
    {
     "data": {
      "text/html": [
       "<div>\n",
       "<style scoped>\n",
       "    .dataframe tbody tr th:only-of-type {\n",
       "        vertical-align: middle;\n",
       "    }\n",
       "\n",
       "    .dataframe tbody tr th {\n",
       "        vertical-align: top;\n",
       "    }\n",
       "\n",
       "    .dataframe thead th {\n",
       "        text-align: right;\n",
       "    }\n",
       "</style>\n",
       "<table border=\"1\" class=\"dataframe\">\n",
       "  <thead>\n",
       "    <tr style=\"text-align: right;\">\n",
       "      <th></th>\n",
       "      <th>subjectid</th>\n",
       "      <th>casestart</th>\n",
       "      <th>caseend</th>\n",
       "      <th>anestart</th>\n",
       "      <th>aneend</th>\n",
       "      <th>opstart</th>\n",
       "      <th>opend</th>\n",
       "      <th>adm</th>\n",
       "      <th>dis</th>\n",
       "      <th>icu_days</th>\n",
       "      <th>...</th>\n",
       "      <th>intraop_colloid</th>\n",
       "      <th>intraop_ppf</th>\n",
       "      <th>intraop_mdz</th>\n",
       "      <th>intraop_ftn</th>\n",
       "      <th>intraop_rocu</th>\n",
       "      <th>intraop_vecu</th>\n",
       "      <th>intraop_eph</th>\n",
       "      <th>intraop_phe</th>\n",
       "      <th>intraop_epi</th>\n",
       "      <th>intraop_ca</th>\n",
       "    </tr>\n",
       "    <tr>\n",
       "      <th>caseid</th>\n",
       "      <th></th>\n",
       "      <th></th>\n",
       "      <th></th>\n",
       "      <th></th>\n",
       "      <th></th>\n",
       "      <th></th>\n",
       "      <th></th>\n",
       "      <th></th>\n",
       "      <th></th>\n",
       "      <th></th>\n",
       "      <th></th>\n",
       "      <th></th>\n",
       "      <th></th>\n",
       "      <th></th>\n",
       "      <th></th>\n",
       "      <th></th>\n",
       "      <th></th>\n",
       "      <th></th>\n",
       "      <th></th>\n",
       "      <th></th>\n",
       "      <th></th>\n",
       "    </tr>\n",
       "  </thead>\n",
       "  <tbody>\n",
       "    <tr>\n",
       "      <th>1</th>\n",
       "      <td>5955</td>\n",
       "      <td>0</td>\n",
       "      <td>11542</td>\n",
       "      <td>-552</td>\n",
       "      <td>10848.0</td>\n",
       "      <td>1668</td>\n",
       "      <td>10368</td>\n",
       "      <td>-236220</td>\n",
       "      <td>627780</td>\n",
       "      <td>0</td>\n",
       "      <td>...</td>\n",
       "      <td>0</td>\n",
       "      <td>120</td>\n",
       "      <td>0.0</td>\n",
       "      <td>100</td>\n",
       "      <td>70</td>\n",
       "      <td>0</td>\n",
       "      <td>10</td>\n",
       "      <td>0</td>\n",
       "      <td>0</td>\n",
       "      <td>0</td>\n",
       "    </tr>\n",
       "    <tr>\n",
       "      <th>2</th>\n",
       "      <td>2487</td>\n",
       "      <td>0</td>\n",
       "      <td>15741</td>\n",
       "      <td>-1039</td>\n",
       "      <td>14921.0</td>\n",
       "      <td>1721</td>\n",
       "      <td>14621</td>\n",
       "      <td>-221160</td>\n",
       "      <td>1506840</td>\n",
       "      <td>0</td>\n",
       "      <td>...</td>\n",
       "      <td>0</td>\n",
       "      <td>150</td>\n",
       "      <td>0.0</td>\n",
       "      <td>0</td>\n",
       "      <td>100</td>\n",
       "      <td>0</td>\n",
       "      <td>20</td>\n",
       "      <td>0</td>\n",
       "      <td>0</td>\n",
       "      <td>0</td>\n",
       "    </tr>\n",
       "    <tr>\n",
       "      <th>3</th>\n",
       "      <td>2861</td>\n",
       "      <td>0</td>\n",
       "      <td>4394</td>\n",
       "      <td>-590</td>\n",
       "      <td>4210.0</td>\n",
       "      <td>1090</td>\n",
       "      <td>3010</td>\n",
       "      <td>-218640</td>\n",
       "      <td>40560</td>\n",
       "      <td>0</td>\n",
       "      <td>...</td>\n",
       "      <td>0</td>\n",
       "      <td>0</td>\n",
       "      <td>0.0</td>\n",
       "      <td>0</td>\n",
       "      <td>50</td>\n",
       "      <td>0</td>\n",
       "      <td>0</td>\n",
       "      <td>0</td>\n",
       "      <td>0</td>\n",
       "      <td>0</td>\n",
       "    </tr>\n",
       "    <tr>\n",
       "      <th>4</th>\n",
       "      <td>1903</td>\n",
       "      <td>0</td>\n",
       "      <td>20990</td>\n",
       "      <td>-778</td>\n",
       "      <td>20222.0</td>\n",
       "      <td>2522</td>\n",
       "      <td>17822</td>\n",
       "      <td>-201120</td>\n",
       "      <td>576480</td>\n",
       "      <td>1</td>\n",
       "      <td>...</td>\n",
       "      <td>0</td>\n",
       "      <td>80</td>\n",
       "      <td>0.0</td>\n",
       "      <td>100</td>\n",
       "      <td>100</td>\n",
       "      <td>0</td>\n",
       "      <td>50</td>\n",
       "      <td>0</td>\n",
       "      <td>0</td>\n",
       "      <td>0</td>\n",
       "    </tr>\n",
       "    <tr>\n",
       "      <th>5</th>\n",
       "      <td>4416</td>\n",
       "      <td>0</td>\n",
       "      <td>21531</td>\n",
       "      <td>-1009</td>\n",
       "      <td>22391.0</td>\n",
       "      <td>2591</td>\n",
       "      <td>20291</td>\n",
       "      <td>-67560</td>\n",
       "      <td>3734040</td>\n",
       "      <td>13</td>\n",
       "      <td>...</td>\n",
       "      <td>0</td>\n",
       "      <td>0</td>\n",
       "      <td>0.0</td>\n",
       "      <td>0</td>\n",
       "      <td>160</td>\n",
       "      <td>0</td>\n",
       "      <td>10</td>\n",
       "      <td>900</td>\n",
       "      <td>0</td>\n",
       "      <td>2100</td>\n",
       "    </tr>\n",
       "  </tbody>\n",
       "</table>\n",
       "<p>5 rows × 73 columns</p>\n",
       "</div>"
      ],
      "text/plain": [
       "        subjectid  casestart  caseend  anestart   aneend  opstart  opend  \\\n",
       "caseid                                                                     \n",
       "1            5955          0    11542      -552  10848.0     1668  10368   \n",
       "2            2487          0    15741     -1039  14921.0     1721  14621   \n",
       "3            2861          0     4394      -590   4210.0     1090   3010   \n",
       "4            1903          0    20990      -778  20222.0     2522  17822   \n",
       "5            4416          0    21531     -1009  22391.0     2591  20291   \n",
       "\n",
       "           adm      dis  icu_days  ...  intraop_colloid  intraop_ppf  \\\n",
       "caseid                             ...                                 \n",
       "1      -236220   627780         0  ...                0          120   \n",
       "2      -221160  1506840         0  ...                0          150   \n",
       "3      -218640    40560         0  ...                0            0   \n",
       "4      -201120   576480         1  ...                0           80   \n",
       "5       -67560  3734040        13  ...                0            0   \n",
       "\n",
       "       intraop_mdz  intraop_ftn  intraop_rocu  intraop_vecu  intraop_eph  \\\n",
       "caseid                                                                     \n",
       "1              0.0          100            70             0           10   \n",
       "2              0.0            0           100             0           20   \n",
       "3              0.0            0            50             0            0   \n",
       "4              0.0          100           100             0           50   \n",
       "5              0.0            0           160             0           10   \n",
       "\n",
       "        intraop_phe intraop_epi intraop_ca  \n",
       "caseid                                      \n",
       "1                 0           0          0  \n",
       "2                 0           0          0  \n",
       "3                 0           0          0  \n",
       "4                 0           0          0  \n",
       "5               900           0       2100  \n",
       "\n",
       "[5 rows x 73 columns]"
      ]
     },
     "execution_count": 9,
     "metadata": {},
     "output_type": "execute_result"
    }
   ],
   "source": [
    "cases.head()"
   ]
  },
  {
   "cell_type": "code",
   "execution_count": 10,
   "id": "14",
   "metadata": {},
   "outputs": [
    {
     "data": {
      "text/plain": [
       "sex\n",
       "M    3243\n",
       "F    3145\n",
       "Name: count, dtype: int64"
      ]
     },
     "execution_count": 10,
     "metadata": {},
     "output_type": "execute_result"
    }
   ],
   "source": [
    "cases['sex'].value_counts()"
   ]
  },
  {
   "cell_type": "markdown",
   "id": "15",
   "metadata": {},
   "source": [
    "# Tracks"
   ]
  },
  {
   "cell_type": "code",
   "execution_count": 11,
   "id": "16",
   "metadata": {},
   "outputs": [
    {
     "name": "stdout",
     "output_type": "stream",
     "text": [
      "trks.csv exists locally.\n"
     ]
    },
    {
     "data": {
      "text/plain": [
       "(486449, 2)"
      ]
     },
     "execution_count": 11,
     "metadata": {},
     "output_type": "execute_result"
    }
   ],
   "source": [
    "trks = vitaldb_dataframe_loader('trks')\n",
    "trks = trks.set_index('caseid')\n",
    "trks.shape"
   ]
  },
  {
   "cell_type": "code",
   "execution_count": 12,
   "id": "17",
   "metadata": {},
   "outputs": [
    {
     "data": {
      "text/plain": [
       "6388"
      ]
     },
     "execution_count": 12,
     "metadata": {},
     "output_type": "execute_result"
    }
   ],
   "source": [
    "trks.index.nunique()"
   ]
  },
  {
   "cell_type": "code",
   "execution_count": 13,
   "id": "18",
   "metadata": {},
   "outputs": [
    {
     "data": {
      "image/png": "[encoded data removed]",
      "text/plain": [
       "<Figure size 640x480 with 1 Axes>"
      ]
     },
     "metadata": {},
     "output_type": "display_data"
    }
   ],
   "source": [
    "trks.groupby('caseid')[['tid']].count().plot();"
   ]
  },
  {
   "cell_type": "code",
   "execution_count": 14,
   "id": "19",
   "metadata": {},
   "outputs": [
    {
     "data": {
      "image/png": "[encoded data removed]",
      "text/plain": [
       "<Figure size 640x480 with 1 Axes>"
      ]
     },
     "metadata": {},
     "output_type": "display_data"
    }
   ],
   "source": [
    "trks.groupby('caseid')[['tid']].count().hist();"
   ]
  },
  {
   "cell_type": "code",
   "execution_count": 15,
   "id": "20",
   "metadata": {},
   "outputs": [
    {
     "data": {
      "text/html": [
       "<div>\n",
       "<style scoped>\n",
       "    .dataframe tbody tr th:only-of-type {\n",
       "        vertical-align: middle;\n",
       "    }\n",
       "\n",
       "    .dataframe tbody tr th {\n",
       "        vertical-align: top;\n",
       "    }\n",
       "\n",
       "    .dataframe thead th {\n",
       "        text-align: right;\n",
       "    }\n",
       "</style>\n",
       "<table border=\"1\" class=\"dataframe\">\n",
       "  <thead>\n",
       "    <tr style=\"text-align: right;\">\n",
       "      <th></th>\n",
       "      <th>tid</th>\n",
       "    </tr>\n",
       "    <tr>\n",
       "      <th>tname</th>\n",
       "      <th></th>\n",
       "    </tr>\n",
       "  </thead>\n",
       "  <tbody>\n",
       "    <tr>\n",
       "      <th>Solar8000/HR</th>\n",
       "      <td>6387</td>\n",
       "    </tr>\n",
       "    <tr>\n",
       "      <th>Solar8000/PLETH_SPO2</th>\n",
       "      <td>6386</td>\n",
       "    </tr>\n",
       "    <tr>\n",
       "      <th>Solar8000/PLETH_HR</th>\n",
       "      <td>6386</td>\n",
       "    </tr>\n",
       "    <tr>\n",
       "      <th>Primus/CO2</th>\n",
       "      <td>6362</td>\n",
       "    </tr>\n",
       "    <tr>\n",
       "      <th>Primus/PAMB_MBAR</th>\n",
       "      <td>6361</td>\n",
       "    </tr>\n",
       "    <tr>\n",
       "      <th>...</th>\n",
       "      <td>...</td>\n",
       "    </tr>\n",
       "    <tr>\n",
       "      <th>Orchestra/AMD_VOL</th>\n",
       "      <td>1</td>\n",
       "    </tr>\n",
       "    <tr>\n",
       "      <th>Solar8000/ST_V5</th>\n",
       "      <td>1</td>\n",
       "    </tr>\n",
       "    <tr>\n",
       "      <th>Orchestra/NPS_VOL</th>\n",
       "      <td>1</td>\n",
       "    </tr>\n",
       "    <tr>\n",
       "      <th>Orchestra/AMD_RATE</th>\n",
       "      <td>1</td>\n",
       "    </tr>\n",
       "    <tr>\n",
       "      <th>Orchestra/VEC_VOL</th>\n",
       "      <td>1</td>\n",
       "    </tr>\n",
       "  </tbody>\n",
       "</table>\n",
       "<p>196 rows × 1 columns</p>\n",
       "</div>"
      ],
      "text/plain": [
       "                       tid\n",
       "tname                     \n",
       "Solar8000/HR          6387\n",
       "Solar8000/PLETH_SPO2  6386\n",
       "Solar8000/PLETH_HR    6386\n",
       "Primus/CO2            6362\n",
       "Primus/PAMB_MBAR      6361\n",
       "...                    ...\n",
       "Orchestra/AMD_VOL        1\n",
       "Solar8000/ST_V5          1\n",
       "Orchestra/NPS_VOL        1\n",
       "Orchestra/AMD_RATE       1\n",
       "Orchestra/VEC_VOL        1\n",
       "\n",
       "[196 rows x 1 columns]"
      ]
     },
     "execution_count": 15,
     "metadata": {},
     "output_type": "execute_result"
    }
   ],
   "source": [
    "trks.groupby('tname').count().sort_values(by='tid', ascending=False)"
   ]
  },
  {
   "cell_type": "markdown",
   "id": "21",
   "metadata": {},
   "source": [
    "## Parameters of Interest"
   ]
  },
  {
   "cell_type": "markdown",
   "id": "22",
   "metadata": {},
   "source": [
    "### Hemodynamic Parameters Reference\n",
    "https://vitaldb.net/dataset/?query=overview#h.f7d712ycdpk2"
   ]
  },
  {
   "cell_type": "markdown",
   "id": "23",
   "metadata": {},
   "source": [
    "**Solar8000/ART_MBP**\n",
    "\n",
    "mean blood pressure\n",
    "\n",
    "Parameter, Description, Type/Hz, Unit\n",
    "\n",
    "Solar8000/ART_MBP, Mean arterial pressure, N, mmHg"
   ]
  },
  {
   "cell_type": "code",
   "execution_count": 16,
   "id": "24",
   "metadata": {},
   "outputs": [
    {
     "data": {
      "text/plain": [
       "(3724, 2)"
      ]
     },
     "execution_count": 16,
     "metadata": {},
     "output_type": "execute_result"
    }
   ],
   "source": [
    "trks[trks['tname'].str.contains('Solar8000/ART_MBP')].shape"
   ]
  },
  {
   "cell_type": "markdown",
   "id": "25",
   "metadata": {},
   "source": [
    "**SNUADC/ART**\n",
    "\n",
    "arterial blood pressure waveform\n",
    "\n",
    "Parameter, Description, Type/Hz, Unit\n",
    "\n",
    "SNUADC/ART, Arterial pressure wave, W/500, mmHg"
   ]
  },
  {
   "cell_type": "code",
   "execution_count": 17,
   "id": "26",
   "metadata": {},
   "outputs": [
    {
     "data": {
      "text/plain": [
       "(3645, 2)"
      ]
     },
     "execution_count": 17,
     "metadata": {},
     "output_type": "execute_result"
    }
   ],
   "source": [
    "trks[trks['tname'].str.contains('SNUADC/ART')].shape"
   ]
  },
  {
   "cell_type": "markdown",
   "id": "27",
   "metadata": {},
   "source": [
    "**SNUADC/ECG_II**\n",
    "\n",
    "electrocardiogram waveform\n",
    "\n",
    "Parameter, Description, Type/Hz, Unit\n",
    "\n",
    "SNUADC/ECG_II, ECG lead II wave, W/500, mV"
   ]
  },
  {
   "cell_type": "code",
   "execution_count": 18,
   "id": "28",
   "metadata": {},
   "outputs": [
    {
     "data": {
      "text/plain": [
       "(6355, 2)"
      ]
     },
     "execution_count": 18,
     "metadata": {},
     "output_type": "execute_result"
    }
   ],
   "source": [
    "trks[trks['tname'].str.contains('SNUADC/ECG_II')].shape"
   ]
  },
  {
   "cell_type": "markdown",
   "id": "29",
   "metadata": {},
   "source": [
    "**BIS/EEG1_WAV**\n",
    "\n",
    "electroencephalogram waveform\n",
    "\n",
    "Parameter, Description, Type/Hz, Unit\n",
    "\n",
    "BIS/EEG1_WAV, EEG wave from channel 1, W/128, uV"
   ]
  },
  {
   "cell_type": "code",
   "execution_count": 19,
   "id": "30",
   "metadata": {},
   "outputs": [
    {
     "data": {
      "text/plain": [
       "(5871, 2)"
      ]
     },
     "execution_count": 19,
     "metadata": {},
     "output_type": "execute_result"
    }
   ],
   "source": [
    "trks[trks['tname'].str.contains('BIS/EEG1_WAV')].shape"
   ]
  },
  {
   "cell_type": "markdown",
   "id": "31",
   "metadata": {},
   "source": [
    "# Cases of Interest\n",
    "\n",
    "These are the subset of case ids for which modelling and analysis will be performed based upon inclusion criteria and waveform data availability."
   ]
  },
  {
   "cell_type": "code",
   "execution_count": 20,
   "id": "32",
   "metadata": {},
   "outputs": [],
   "source": [
    "TRACK_NAMES = ['SNUADC/ART', 'SNUADC/ECG_II', 'BIS/EEG1_WAV']"
   ]
  },
  {
   "cell_type": "code",
   "execution_count": 21,
   "id": "33",
   "metadata": {},
   "outputs": [
    {
     "name": "stdout",
     "output_type": "stream",
     "text": [
      "57 cases excluded, 6331 remaining due to age criteria\n",
      "345 cases excluded, 6043 remaining due to anesthesia criteria\n",
      "14 cases excluded, 6374 remaining due to non-cardiac surgery criteria\n",
      "3019 cases excluded, 3369 remaining due to missing waveform data\n",
      "\n",
      "3296 out of 6388 total cases remaining after exclusions applied\n"
     ]
    }
   ],
   "source": [
    "# As in the paper, select cases which meet the following criteria:\n",
    "#\n",
    "# For patients, the inclusion criteria were as follows:\n",
    "# (1) adults (age >= 18)\n",
    "# (2) administered general anaesthesia\n",
    "# (3) undergone non-cardiac surgery. \n",
    "#\n",
    "# For waveform data, the inclusion criteria were as follows:\n",
    "# (1) no missing monitoring for ABP, ECG, and EEG waveforms\n",
    "# (2) no cases containing false events or non-events due to poor signal quality\n",
    "#     (checked in second stage of data preprocessing)\n",
    "\n",
    "# adult\n",
    "inclusion_1 = cases.loc[cases['age'] >= 18].index\n",
    "print(f'{len(cases)-len(inclusion_1)} cases excluded, {len(inclusion_1)} remaining due to age criteria')\n",
    "\n",
    "# general anesthesia\n",
    "inclusion_2 = cases.loc[cases['ane_type'] == 'General'].index\n",
    "print(f'{len(cases)-len(inclusion_2)} cases excluded, {len(inclusion_2)} remaining due to anesthesia criteria')\n",
    "\n",
    "# non-cardiac surgery\n",
    "inclusion_3 = cases.loc[\n",
    "    ~cases['opname'].str.contains(\"cardiac\", case=False)\n",
    "    & ~cases['opname'].str.contains(\"aneurysmal\", case=False)\n",
    "].index\n",
    "print(f'{len(cases)-len(inclusion_3)} cases excluded, {len(inclusion_3)} remaining due to non-cardiac surgery criteria')\n",
    "\n",
    "# ABP, ECG, EEG waveforms\n",
    "TRACK_NAMES = ['SNUADC/ART', 'SNUADC/ECG_II', 'BIS/EEG1_WAV']\n",
    "inclusion_4 = trks.loc[trks['tname'].isin(TRACK_NAMES)].index.value_counts()\n",
    "inclusion_4 = inclusion_4[inclusion_4 == len(TRACK_NAMES)].index\n",
    "print(f'{len(cases)-len(inclusion_4)} cases excluded, {len(inclusion_4)} remaining due to missing waveform data')\n",
    "\n",
    "cases_of_interest_idx = inclusion_1 \\\n",
    "    .intersection(inclusion_2) \\\n",
    "    .intersection(inclusion_3) \\\n",
    "    .intersection(inclusion_4)\n",
    "\n",
    "cases_of_interest = cases.loc[cases_of_interest_idx]\n",
    "\n",
    "print()\n",
    "print(f'{cases_of_interest_idx.shape[0]} out of {cases.shape[0]} total cases remaining after exclusions applied')"
   ]
  },
  {
   "cell_type": "code",
   "execution_count": 22,
   "id": "34",
   "metadata": {},
   "outputs": [
    {
     "data": {
      "text/html": [
       "<div>\n",
       "<style scoped>\n",
       "    .dataframe tbody tr th:only-of-type {\n",
       "        vertical-align: middle;\n",
       "    }\n",
       "\n",
       "    .dataframe tbody tr th {\n",
       "        vertical-align: top;\n",
       "    }\n",
       "\n",
       "    .dataframe thead th {\n",
       "        text-align: right;\n",
       "    }\n",
       "</style>\n",
       "<table border=\"1\" class=\"dataframe\">\n",
       "  <thead>\n",
       "    <tr style=\"text-align: right;\">\n",
       "      <th></th>\n",
       "      <th>subjectid</th>\n",
       "      <th>casestart</th>\n",
       "      <th>caseend</th>\n",
       "      <th>anestart</th>\n",
       "      <th>aneend</th>\n",
       "      <th>opstart</th>\n",
       "      <th>opend</th>\n",
       "      <th>adm</th>\n",
       "      <th>dis</th>\n",
       "      <th>icu_days</th>\n",
       "      <th>...</th>\n",
       "      <th>intraop_colloid</th>\n",
       "      <th>intraop_ppf</th>\n",
       "      <th>intraop_mdz</th>\n",
       "      <th>intraop_ftn</th>\n",
       "      <th>intraop_rocu</th>\n",
       "      <th>intraop_vecu</th>\n",
       "      <th>intraop_eph</th>\n",
       "      <th>intraop_phe</th>\n",
       "      <th>intraop_epi</th>\n",
       "      <th>intraop_ca</th>\n",
       "    </tr>\n",
       "    <tr>\n",
       "      <th>caseid</th>\n",
       "      <th></th>\n",
       "      <th></th>\n",
       "      <th></th>\n",
       "      <th></th>\n",
       "      <th></th>\n",
       "      <th></th>\n",
       "      <th></th>\n",
       "      <th></th>\n",
       "      <th></th>\n",
       "      <th></th>\n",
       "      <th></th>\n",
       "      <th></th>\n",
       "      <th></th>\n",
       "      <th></th>\n",
       "      <th></th>\n",
       "      <th></th>\n",
       "      <th></th>\n",
       "      <th></th>\n",
       "      <th></th>\n",
       "      <th></th>\n",
       "      <th></th>\n",
       "    </tr>\n",
       "  </thead>\n",
       "  <tbody>\n",
       "    <tr>\n",
       "      <th>1</th>\n",
       "      <td>5955</td>\n",
       "      <td>0</td>\n",
       "      <td>11542</td>\n",
       "      <td>-552</td>\n",
       "      <td>10848.0</td>\n",
       "      <td>1668</td>\n",
       "      <td>10368</td>\n",
       "      <td>-236220</td>\n",
       "      <td>627780</td>\n",
       "      <td>0</td>\n",
       "      <td>...</td>\n",
       "      <td>0</td>\n",
       "      <td>120</td>\n",
       "      <td>0.0</td>\n",
       "      <td>100</td>\n",
       "      <td>70</td>\n",
       "      <td>0</td>\n",
       "      <td>10</td>\n",
       "      <td>0</td>\n",
       "      <td>0</td>\n",
       "      <td>0</td>\n",
       "    </tr>\n",
       "    <tr>\n",
       "      <th>3</th>\n",
       "      <td>2861</td>\n",
       "      <td>0</td>\n",
       "      <td>4394</td>\n",
       "      <td>-590</td>\n",
       "      <td>4210.0</td>\n",
       "      <td>1090</td>\n",
       "      <td>3010</td>\n",
       "      <td>-218640</td>\n",
       "      <td>40560</td>\n",
       "      <td>0</td>\n",
       "      <td>...</td>\n",
       "      <td>0</td>\n",
       "      <td>0</td>\n",
       "      <td>0.0</td>\n",
       "      <td>0</td>\n",
       "      <td>50</td>\n",
       "      <td>0</td>\n",
       "      <td>0</td>\n",
       "      <td>0</td>\n",
       "      <td>0</td>\n",
       "      <td>0</td>\n",
       "    </tr>\n",
       "    <tr>\n",
       "      <th>4</th>\n",
       "      <td>1903</td>\n",
       "      <td>0</td>\n",
       "      <td>20990</td>\n",
       "      <td>-778</td>\n",
       "      <td>20222.0</td>\n",
       "      <td>2522</td>\n",
       "      <td>17822</td>\n",
       "      <td>-201120</td>\n",
       "      <td>576480</td>\n",
       "      <td>1</td>\n",
       "      <td>...</td>\n",
       "      <td>0</td>\n",
       "      <td>80</td>\n",
       "      <td>0.0</td>\n",
       "      <td>100</td>\n",
       "      <td>100</td>\n",
       "      <td>0</td>\n",
       "      <td>50</td>\n",
       "      <td>0</td>\n",
       "      <td>0</td>\n",
       "      <td>0</td>\n",
       "    </tr>\n",
       "    <tr>\n",
       "      <th>7</th>\n",
       "      <td>5124</td>\n",
       "      <td>0</td>\n",
       "      <td>15770</td>\n",
       "      <td>477</td>\n",
       "      <td>14817.0</td>\n",
       "      <td>3177</td>\n",
       "      <td>14577</td>\n",
       "      <td>-154320</td>\n",
       "      <td>623280</td>\n",
       "      <td>3</td>\n",
       "      <td>...</td>\n",
       "      <td>0</td>\n",
       "      <td>0</td>\n",
       "      <td>0.0</td>\n",
       "      <td>0</td>\n",
       "      <td>120</td>\n",
       "      <td>0</td>\n",
       "      <td>0</td>\n",
       "      <td>0</td>\n",
       "      <td>0</td>\n",
       "      <td>0</td>\n",
       "    </tr>\n",
       "    <tr>\n",
       "      <th>10</th>\n",
       "      <td>2175</td>\n",
       "      <td>0</td>\n",
       "      <td>20992</td>\n",
       "      <td>-1743</td>\n",
       "      <td>21057.0</td>\n",
       "      <td>2457</td>\n",
       "      <td>19857</td>\n",
       "      <td>-220740</td>\n",
       "      <td>3580860</td>\n",
       "      <td>1</td>\n",
       "      <td>...</td>\n",
       "      <td>0</td>\n",
       "      <td>90</td>\n",
       "      <td>0.0</td>\n",
       "      <td>0</td>\n",
       "      <td>110</td>\n",
       "      <td>0</td>\n",
       "      <td>20</td>\n",
       "      <td>500</td>\n",
       "      <td>0</td>\n",
       "      <td>600</td>\n",
       "    </tr>\n",
       "  </tbody>\n",
       "</table>\n",
       "<p>5 rows × 73 columns</p>\n",
       "</div>"
      ],
      "text/plain": [
       "        subjectid  casestart  caseend  anestart   aneend  opstart  opend  \\\n",
       "caseid                                                                     \n",
       "1            5955          0    11542      -552  10848.0     1668  10368   \n",
       "3            2861          0     4394      -590   4210.0     1090   3010   \n",
       "4            1903          0    20990      -778  20222.0     2522  17822   \n",
       "7            5124          0    15770       477  14817.0     3177  14577   \n",
       "10           2175          0    20992     -1743  21057.0     2457  19857   \n",
       "\n",
       "           adm      dis  icu_days  ...  intraop_colloid  intraop_ppf  \\\n",
       "caseid                             ...                                 \n",
       "1      -236220   627780         0  ...                0          120   \n",
       "3      -218640    40560         0  ...                0            0   \n",
       "4      -201120   576480         1  ...                0           80   \n",
       "7      -154320   623280         3  ...                0            0   \n",
       "10     -220740  3580860         1  ...                0           90   \n",
       "\n",
       "       intraop_mdz  intraop_ftn  intraop_rocu  intraop_vecu  intraop_eph  \\\n",
       "caseid                                                                     \n",
       "1              0.0          100            70             0           10   \n",
       "3              0.0            0            50             0            0   \n",
       "4              0.0          100           100             0           50   \n",
       "7              0.0            0           120             0            0   \n",
       "10             0.0            0           110             0           20   \n",
       "\n",
       "        intraop_phe intraop_epi intraop_ca  \n",
       "caseid                                      \n",
       "1                 0           0          0  \n",
       "3                 0           0          0  \n",
       "4                 0           0          0  \n",
       "7                 0           0          0  \n",
       "10              500           0        600  \n",
       "\n",
       "[5 rows x 73 columns]"
      ]
     },
     "execution_count": 22,
     "metadata": {},
     "output_type": "execute_result"
    }
   ],
   "source": [
    "cases_of_interest.head(n=5)"
   ]
  },
  {
   "cell_type": "markdown",
   "id": "35",
   "metadata": {},
   "source": [
    "# Tracks of Interest\n",
    "\n",
    "These are the subset of tracks (waveforms) for the cases of interest identified above."
   ]
  },
  {
   "cell_type": "code",
   "execution_count": 23,
   "id": "36",
   "metadata": {},
   "outputs": [
    {
     "data": {
      "text/plain": [
       "(9888, 2)"
      ]
     },
     "execution_count": 23,
     "metadata": {},
     "output_type": "execute_result"
    }
   ],
   "source": [
    "# A single case maps to one or more waveform tracks. Select only the tracks required for analysis.\n",
    "trks_of_interest = trks.loc[cases_of_interest_idx][trks.loc[cases_of_interest_idx]['tname'].isin(TRACK_NAMES)]\n",
    "trks_of_interest.shape"
   ]
  },
  {
   "cell_type": "code",
   "execution_count": 24,
   "id": "37",
   "metadata": {},
   "outputs": [
    {
     "data": {
      "text/html": [
       "<div>\n",
       "<style scoped>\n",
       "    .dataframe tbody tr th:only-of-type {\n",
       "        vertical-align: middle;\n",
       "    }\n",
       "\n",
       "    .dataframe tbody tr th {\n",
       "        vertical-align: top;\n",
       "    }\n",
       "\n",
       "    .dataframe thead th {\n",
       "        text-align: right;\n",
       "    }\n",
       "</style>\n",
       "<table border=\"1\" class=\"dataframe\">\n",
       "  <thead>\n",
       "    <tr style=\"text-align: right;\">\n",
       "      <th></th>\n",
       "      <th>tname</th>\n",
       "      <th>tid</th>\n",
       "    </tr>\n",
       "    <tr>\n",
       "      <th>caseid</th>\n",
       "      <th></th>\n",
       "      <th></th>\n",
       "    </tr>\n",
       "  </thead>\n",
       "  <tbody>\n",
       "    <tr>\n",
       "      <th>1</th>\n",
       "      <td>BIS/EEG1_WAV</td>\n",
       "      <td>0aa685df768489a18a5e9f53af0d83bf60890c73</td>\n",
       "    </tr>\n",
       "    <tr>\n",
       "      <th>1</th>\n",
       "      <td>SNUADC/ART</td>\n",
       "      <td>724cdd7184d7886b8f7de091c5b135bd01949959</td>\n",
       "    </tr>\n",
       "    <tr>\n",
       "      <th>1</th>\n",
       "      <td>SNUADC/ECG_II</td>\n",
       "      <td>8c9161aaae8cb578e2aa7b60f44234d98d2b3344</td>\n",
       "    </tr>\n",
       "    <tr>\n",
       "      <th>3</th>\n",
       "      <td>BIS/EEG1_WAV</td>\n",
       "      <td>3a3fe9248e00cd20c3442960d92405c4bb405a05</td>\n",
       "    </tr>\n",
       "    <tr>\n",
       "      <th>3</th>\n",
       "      <td>SNUADC/ART</td>\n",
       "      <td>54be86b8ba1eb9c42a572b5824310eb6c9f19aef</td>\n",
       "    </tr>\n",
       "  </tbody>\n",
       "</table>\n",
       "</div>"
      ],
      "text/plain": [
       "                tname                                       tid\n",
       "caseid                                                         \n",
       "1        BIS/EEG1_WAV  0aa685df768489a18a5e9f53af0d83bf60890c73\n",
       "1          SNUADC/ART  724cdd7184d7886b8f7de091c5b135bd01949959\n",
       "1       SNUADC/ECG_II  8c9161aaae8cb578e2aa7b60f44234d98d2b3344\n",
       "3        BIS/EEG1_WAV  3a3fe9248e00cd20c3442960d92405c4bb405a05\n",
       "3          SNUADC/ART  54be86b8ba1eb9c42a572b5824310eb6c9f19aef"
      ]
     },
     "execution_count": 24,
     "metadata": {},
     "output_type": "execute_result"
    }
   ],
   "source": [
    "trks_of_interest.head(n=5)"
   ]
  },
  {
   "cell_type": "code",
   "execution_count": 25,
   "id": "38",
   "metadata": {},
   "outputs": [
    {
     "data": {
      "text/plain": [
       "(9888,)"
      ]
     },
     "execution_count": 25,
     "metadata": {},
     "output_type": "execute_result"
    }
   ],
   "source": [
    "trks_of_interest_idx = trks_of_interest.set_index('tid').index\n",
    "trks_of_interest_idx.shape"
   ]
  },
  {
   "cell_type": "markdown",
   "id": "39",
   "metadata": {},
   "source": [
    "## Build Tracks Cache for Local Processing\n",
    "\n",
    "Tracks data are large and therefore expensive to download every time used.\n",
    "By default, the vital file format stores all tracks for each case internally. Since only certain tracks per case are required, each vital file can be further truncated to only store the tracks for needed waveforms."
   ]
  },
  {
   "cell_type": "code",
   "execution_count": 26,
   "id": "40",
   "metadata": {},
   "outputs": [],
   "source": [
    "# Maximum number of cases of interest for which to download data.\n",
    "# Set to a small value for demo purposes, else set to None to disable and download all.\n",
    "MAX_CASES = None\n",
    "#MAX_CASES = 10"
   ]
  },
  {
   "cell_type": "code",
   "execution_count": 27,
   "id": "41",
   "metadata": {},
   "outputs": [
    {
     "name": "stdout",
     "output_type": "stream",
     "text": [
      "\n",
      "Count of cases of interest:           3296\n",
      "Count of vital files downloaded:      0\n",
      "Count of vital files already present: 3296\n"
     ]
    }
   ],
   "source": [
    "# Ensure the full vital file dataset is available for cases of interest.\n",
    "count_downloaded = 0\n",
    "count_present = 0\n",
    "\n",
    "#for i, idx in enumerate(cases.index):\n",
    "for i, idx in enumerate(cases_of_interest_idx):\n",
    "    if MAX_CASES and i >= MAX_CASES:\n",
    "        break\n",
    "\n",
    "    full_path = f'{VITALDB_CACHE}/{VITAL_ALL}/{idx:04d}.vital'\n",
    "    if not os.path.isfile(full_path):\n",
    "        print(f'Missing vital file: {full_path}')\n",
    "        # Download and save the file.\n",
    "        vf = vitaldb.VitalFile(idx)\n",
    "        vf.to_vital(full_path)\n",
    "        count_downloaded += 1\n",
    "    else:\n",
    "        count_present += 1\n",
    "\n",
    "print()\n",
    "print(f'Count of cases of interest:           {cases_of_interest_idx.shape[0]}')\n",
    "print(f'Count of vital files downloaded:      {count_downloaded}')\n",
    "print(f'Count of vital files already present: {count_present}')"
   ]
  },
  {
   "cell_type": "code",
   "execution_count": 28,
   "id": "42",
   "metadata": {},
   "outputs": [
    {
     "name": "stdout",
     "output_type": "stream",
     "text": [
      "\n",
      "Count of cases of interest:           3296\n",
      "Count of vital files minified:        0\n",
      "Count of vital files already present: 3296\n"
     ]
    }
   ],
   "source": [
    "# Convert vital files to \"mini\" versions including only the subset of tracks based on TRACK_NAMES defined above.\n",
    "# Only perform conversion for the cases of interest.\n",
    "# NOTE: If this cell is interrupted, it can be restarted and will continue where it left off.\n",
    "count_minified = 0\n",
    "count_present = 0\n",
    "\n",
    "for i, idx in enumerate(cases_of_interest_idx):\n",
    "    if MAX_CASES and i >= MAX_CASES:\n",
    "        break\n",
    "    \n",
    "    full_path = f'{VITALDB_CACHE}/{VITAL_ALL}/{idx:04d}.vital'\n",
    "    mini_path = f'{VITALDB_CACHE}/{VITAL_MINI}/{idx:04d}_mini.vital'\n",
    "    if not os.path.isfile(mini_path):\n",
    "        print(f'Creating mini vital file: {idx}')\n",
    "        vf = vitaldb.VitalFile(full_path, TRACK_NAMES)\n",
    "        vf.to_vital(mini_path)\n",
    "        count_minified += 1\n",
    "    else:\n",
    "        count_present += 1\n",
    "\n",
    "print()\n",
    "print(f'Count of cases of interest:           {cases_of_interest_idx.shape[0]}')\n",
    "print(f'Count of vital files minified:        {count_minified}')\n",
    "print(f'Count of vital files already present: {count_present}')"
   ]
  },
  {
   "cell_type": "markdown",
   "id": "43",
   "metadata": {},
   "source": [
    "# Track Plotting Examples\n",
    "\n",
    "These examples show multiple ways of accessing the same track data."
   ]
  },
  {
   "cell_type": "code",
   "execution_count": 29,
   "id": "44",
   "metadata": {},
   "outputs": [],
   "source": [
    "tmp_vf_path = f'{VITALDB_CACHE}/{VITAL_MINI}/0001_mini.vital'"
   ]
  },
  {
   "cell_type": "code",
   "execution_count": 30,
   "id": "45",
   "metadata": {},
   "outputs": [
    {
     "data": {
      "text/plain": [
       "['SNUADC/ART', 'SNUADC/ECG_II', 'BIS/EEG1_WAV']"
      ]
     },
     "execution_count": 30,
     "metadata": {},
     "output_type": "execute_result"
    }
   ],
   "source": [
    "tmp_vf = vitaldb.VitalFile(tmp_vf_path)\n",
    "tmp_vf.get_track_names()"
   ]
  },
  {
   "cell_type": "markdown",
   "id": "46",
   "metadata": {},
   "source": [
    "**`vitaldb.VitalFile.get_track_samples()`**"
   ]
  },
  {
   "cell_type": "code",
   "execution_count": 31,
   "id": "47",
   "metadata": {},
   "outputs": [
    {
     "data": {
      "text/plain": [
       "(1154115,)"
      ]
     },
     "execution_count": 31,
     "metadata": {},
     "output_type": "execute_result"
    }
   ],
   "source": [
    "tmp_art_00 = tmp_vf.get_track_samples(TRACK_NAMES[0], 1/100)\n",
    "tmp_art_00.shape"
   ]
  },
  {
   "cell_type": "code",
   "execution_count": 32,
   "id": "48",
   "metadata": {},
   "outputs": [
    {
     "data": {
      "image/png": "[encoded data removed]",
      "text/plain": [
       "<Figure size 2000x500 with 1 Axes>"
      ]
     },
     "metadata": {},
     "output_type": "display_data"
    }
   ],
   "source": [
    "plt.figure(figsize=(20, 5))\n",
    "plt.plot(tmp_art_00)\n",
    "plt.show()"
   ]
  },
  {
   "cell_type": "markdown",
   "id": "49",
   "metadata": {},
   "source": [
    "**`vitaldb.VitalFile.to_numpy()`**"
   ]
  },
  {
   "cell_type": "code",
   "execution_count": 33,
   "id": "50",
   "metadata": {},
   "outputs": [
    {
     "data": {
      "text/plain": [
       "(1154115, 1)"
      ]
     },
     "execution_count": 33,
     "metadata": {},
     "output_type": "execute_result"
    }
   ],
   "source": [
    "tmp_art_01 = tmp_vf.to_numpy(TRACK_NAMES[0], 1/100)\n",
    "tmp_art_01.shape"
   ]
  },
  {
   "cell_type": "code",
   "execution_count": 34,
   "id": "51",
   "metadata": {},
   "outputs": [
    {
     "data": {
      "text/plain": [
       "numpy.ndarray"
      ]
     },
     "execution_count": 34,
     "metadata": {},
     "output_type": "execute_result"
    }
   ],
   "source": [
    "type(tmp_art_01)"
   ]
  },
  {
   "cell_type": "code",
   "execution_count": 35,
   "id": "52",
   "metadata": {},
   "outputs": [
    {
     "data": {
      "image/png": "[encoded data removed]",
      "text/plain": [
       "<Figure size 2000x500 with 1 Axes>"
      ]
     },
     "metadata": {},
     "output_type": "display_data"
    }
   ],
   "source": [
    "plt.figure(figsize=(20, 5))\n",
    "plt.plot(tmp_art_01)\n",
    "plt.show()"
   ]
  },
  {
   "cell_type": "markdown",
   "id": "53",
   "metadata": {},
   "source": [
    "**`vitaldb.VitalFile.get_samples()`**\n",
    "\n",
    "This option allows returning timestamps as well."
   ]
  },
  {
   "cell_type": "code",
   "execution_count": 36,
   "id": "54",
   "metadata": {},
   "outputs": [
    {
     "data": {
      "text/plain": [
       "([array([4.10244480e+09, 4.10244480e+09, 4.10244480e+09, ...,\n",
       "         4.10245634e+09, 4.10245634e+09, 4.10245634e+09]),\n",
       "  array([        nan,         nan,         nan, ..., -20.65918  ,\n",
       "          32.663483 ,  -4.8598633], dtype=float32)],\n",
       " ['Time', 'SNUADC/ART'])"
      ]
     },
     "execution_count": 36,
     "metadata": {},
     "output_type": "execute_result"
    }
   ],
   "source": [
    "tmp_art_02 = tmp_vf.get_samples(TRACK_NAMES[0], 1/100, return_timestamp=True)\n",
    "tmp_art_02"
   ]
  },
  {
   "cell_type": "code",
   "execution_count": 37,
   "id": "55",
   "metadata": {},
   "outputs": [
    {
     "data": {
      "text/plain": [
       "11541.139999866486"
      ]
     },
     "execution_count": 37,
     "metadata": {},
     "output_type": "execute_result"
    }
   ],
   "source": [
    "tmp_art_02[0][0][-1] - tmp_art_02[0][0][0]"
   ]
  },
  {
   "cell_type": "code",
   "execution_count": 38,
   "id": "56",
   "metadata": {},
   "outputs": [
    {
     "data": {
      "text/plain": [
       "numpy.ndarray"
      ]
     },
     "execution_count": 38,
     "metadata": {},
     "output_type": "execute_result"
    }
   ],
   "source": [
    "type(tmp_art_02[0][0])"
   ]
  },
  {
   "cell_type": "code",
   "execution_count": 39,
   "id": "57",
   "metadata": {},
   "outputs": [
    {
     "data": {
      "image/png": "[encoded data removed]",
      "text/plain": [
       "<Figure size 2000x500 with 1 Axes>"
      ]
     },
     "metadata": {},
     "output_type": "display_data"
    }
   ],
   "source": [
    "plt.figure(figsize=(20, 5))\n",
    "plt.plot(tmp_art_02[0][1])\n",
    "plt.show()"
   ]
  },
  {
   "cell_type": "markdown",
   "id": "58",
   "metadata": {},
   "source": [
    "**`vitaldb.vital_recs()`**"
   ]
  },
  {
   "cell_type": "code",
   "execution_count": 40,
   "id": "59",
   "metadata": {},
   "outputs": [
    {
     "data": {
      "text/plain": [
       "(1154115, 1)"
      ]
     },
     "execution_count": 40,
     "metadata": {},
     "output_type": "execute_result"
    }
   ],
   "source": [
    "tmp_art_03 = vitaldb.vital_recs(tmp_vf_path, TRACK_NAMES[0], 1/100)\n",
    "tmp_art_03.shape"
   ]
  },
  {
   "cell_type": "code",
   "execution_count": 41,
   "id": "60",
   "metadata": {},
   "outputs": [
    {
     "data": {
      "text/plain": [
       "numpy.ndarray"
      ]
     },
     "execution_count": 41,
     "metadata": {},
     "output_type": "execute_result"
    }
   ],
   "source": [
    "type(tmp_art_03)"
   ]
  },
  {
   "cell_type": "code",
   "execution_count": 42,
   "id": "61",
   "metadata": {},
   "outputs": [
    {
     "data": {
      "image/png": "[encoded data removed]",
      "text/plain": [
       "<Figure size 2000x500 with 1 Axes>"
      ]
     },
     "metadata": {},
     "output_type": "display_data"
    }
   ],
   "source": [
    "plt.figure(figsize=(20, 5))\n",
    "plt.plot(tmp_art_03)\n",
    "plt.show()"
   ]
  },
  {
   "cell_type": "markdown",
   "id": "62",
   "metadata": {},
   "source": [
    "**`vitaldb.dataset.load_trk()`**\n",
    "\n",
    "NOTE: This downloads a track based on raw id. Should not be needed, but showing how to do it."
   ]
  },
  {
   "cell_type": "code",
   "execution_count": 43,
   "id": "63",
   "metadata": {},
   "outputs": [
    {
     "name": "stdout",
     "output_type": "stream",
     "text": [
      "Manual track download example skipped.\n"
     ]
    }
   ],
   "source": [
    "SHOW_TRAK_DOWNLOAD = False\n",
    "\n",
    "if SHOW_TRAK_DOWNLOAD:\n",
    "    case_0001_trk_art_id = '724cdd7184d7886b8f7de091c5b135bd01949959'\n",
    "    tmp_art_04 = vitaldb.dataset.load_trk(case_0001_trk_art_id, 1/100)\n",
    "    print(tmp_art_04.shape)\n",
    "    \n",
    "    plt.figure(figsize=(20, 5))\n",
    "    plt.plot(tmp_art_04)\n",
    "    plt.show()\n",
    "else:\n",
    "    print('Manual track download example skipped.')"
   ]
  },
  {
   "cell_type": "markdown",
   "id": "64",
   "metadata": {},
   "source": [
    "# One Minute ABP Extraction"
   ]
  },
  {
   "cell_type": "code",
   "execution_count": 44,
   "id": "65",
   "metadata": {},
   "outputs": [
    {
     "data": {
      "text/plain": [
       "4102444800.947"
      ]
     },
     "execution_count": 44,
     "metadata": {},
     "output_type": "execute_result"
    }
   ],
   "source": [
    "tmp_vf.dtstart"
   ]
  },
  {
   "cell_type": "code",
   "execution_count": 45,
   "id": "66",
   "metadata": {},
   "outputs": [
    {
     "data": {
      "text/plain": [
       "'2099-12-31T18:00:00.947000'"
      ]
     },
     "execution_count": 45,
     "metadata": {},
     "output_type": "execute_result"
    }
   ],
   "source": [
    "start = datetime.datetime.fromtimestamp(tmp_vf.dtstart).isoformat()\n",
    "start"
   ]
  },
  {
   "cell_type": "code",
   "execution_count": 46,
   "id": "67",
   "metadata": {},
   "outputs": [
    {
     "data": {
      "text/plain": [
       "'2099-12-31T21:12:22.096763'"
      ]
     },
     "execution_count": 46,
     "metadata": {},
     "output_type": "execute_result"
    }
   ],
   "source": [
    "end = datetime.datetime.fromtimestamp(tmp_vf.dtend).isoformat()\n",
    "end"
   ]
  },
  {
   "cell_type": "code",
   "execution_count": 47,
   "id": "68",
   "metadata": {},
   "outputs": [
    {
     "data": {
      "text/plain": [
       "datetime.timedelta(seconds=11541, microseconds=149763)"
      ]
     },
     "execution_count": 47,
     "metadata": {},
     "output_type": "execute_result"
    }
   ],
   "source": [
    "datetime.datetime.fromtimestamp(tmp_vf.dtend) - datetime.datetime.fromtimestamp(tmp_vf.dtstart)"
   ]
  },
  {
   "cell_type": "code",
   "execution_count": 48,
   "id": "69",
   "metadata": {},
   "outputs": [
    {
     "data": {
      "text/plain": [
       "1711929600.0"
      ]
     },
     "execution_count": 48,
     "metadata": {},
     "output_type": "execute_result"
    }
   ],
   "source": [
    "d = tmp_vf.get_dt(2024, 4, 1)\n",
    "d"
   ]
  },
  {
   "cell_type": "code",
   "execution_count": 49,
   "id": "70",
   "metadata": {},
   "outputs": [
    {
     "data": {
      "text/plain": [
       "'2024-03-31T19:00:00'"
      ]
     },
     "execution_count": 49,
     "metadata": {},
     "output_type": "execute_result"
    }
   ],
   "source": [
    "datetime.datetime.fromtimestamp(d).isoformat()"
   ]
  },
  {
   "cell_type": "code",
   "execution_count": 50,
   "id": "71",
   "metadata": {},
   "outputs": [
    {
     "data": {
      "text/plain": [
       "tuple"
      ]
     },
     "execution_count": 50,
     "metadata": {},
     "output_type": "execute_result"
    }
   ],
   "source": [
    "dd = tmp_vf.get_samples(TRACK_NAMES, 1)\n",
    "type(dd)"
   ]
  },
  {
   "cell_type": "code",
   "execution_count": 51,
   "id": "72",
   "metadata": {},
   "outputs": [
    {
     "data": {
      "text/plain": [
       "numpy.ndarray"
      ]
     },
     "execution_count": 51,
     "metadata": {},
     "output_type": "execute_result"
    }
   ],
   "source": [
    "tmp_art_00 = tmp_vf.get_track_samples(TRACK_NAMES[0], 1)\n",
    "type(tmp_art_00)"
   ]
  },
  {
   "cell_type": "code",
   "execution_count": 52,
   "id": "73",
   "metadata": {},
   "outputs": [
    {
     "data": {
      "text/plain": [
       "(10567,)"
      ]
     },
     "execution_count": 52,
     "metadata": {},
     "output_type": "execute_result"
    }
   ],
   "source": [
    "z = tmp_art_00[tmp_art_00 > 0]\n",
    "z.shape"
   ]
  },
  {
   "cell_type": "code",
   "execution_count": 53,
   "id": "74",
   "metadata": {},
   "outputs": [
    {
     "data": {
      "image/png": "[encoded data removed]",
      "text/plain": [
       "<Figure size 2000x500 with 1 Axes>"
      ]
     },
     "metadata": {},
     "output_type": "display_data"
    }
   ],
   "source": [
    "plt.figure(figsize=(20, 5))\n",
    "plt.plot(z)\n",
    "plt.show()"
   ]
  },
  {
   "cell_type": "code",
   "execution_count": 54,
   "id": "75",
   "metadata": {},
   "outputs": [
    {
     "data": {
      "image/png": "[encoded data removed]",
      "text/plain": [
       "<Figure size 2000x500 with 1 Axes>"
      ]
     },
     "metadata": {},
     "output_type": "display_data"
    }
   ],
   "source": [
    "z = tmp_art_00[1000:10000].copy()\n",
    "z = z[z > 0]\n",
    "\n",
    "plt.figure(figsize=(20, 5))\n",
    "plt.plot(z)\n",
    "plt.show()"
   ]
  },
  {
   "cell_type": "code",
   "execution_count": 55,
   "id": "77",
   "metadata": {},
   "outputs": [
    {
     "name": "stdout",
     "output_type": "stream",
     "text": [
      "1\n",
      "./vitaldb_cache/vital_mini/0001_mini.vital\n",
      "(1154115,)\n"
     ]
    }
   ],
   "source": [
    "for caseid in cases_of_interest_idx[:1]:\n",
    "    print(caseid)\n",
    "    tmp_vf_path = f'{VITALDB_CACHE}/{VITAL_MINI}/{caseid:04d}_mini.vital'\n",
    "    print(tmp_vf_path)\n",
    "    tmp_vf = vitaldb.VitalFile(tmp_vf_path)\n",
    "    arts = tmp_vf.to_numpy(TRACK_NAMES[0], 1/100)\n",
    "    print(arts.ravel().shape)"
   ]
  },
  {
   "cell_type": "code",
   "execution_count": 56,
   "id": "79",
   "metadata": {},
   "outputs": [],
   "source": [
    "# Generate hypotensive events\n",
    "# Hypotensive events are defined as a 1-minute interval with sustained ABP of less than 65 mmHg\n",
    "# Note: Hypotensive events should be at least 20 minutes apart to minimize potential residual effects from previous events\n",
    "# TODO: Implement hypotension event generation function\n",
    "# TODO: Generate hypotension events\n",
    "\n",
    "# Generate hypotension non-events\n",
    "# To sample non-events, 30-minute segments where the ABP was above 75 mmHG were selected, and then\n",
    "# three one-minute samples of each waveform were obtained from the middle of the segment\n",
    "# TODO: Implement hypotension non-event generation function\n",
    "# TODO: Generate hypotension non-events"
   ]
  },
  {
   "cell_type": "markdown",
   "id": "80",
   "metadata": {},
   "source": [
    "Adapted from: https://github.com/vitaldb/examples/blob/master/hypotension_art.ipynb"
   ]
  },
  {
   "cell_type": "code",
   "execution_count": 57,
   "id": "5996e815",
   "metadata": {},
   "outputs": [
    {
     "data": {
      "text/plain": [
       "['SNUADC/ART', 'SNUADC/ECG_II', 'BIS/EEG1_WAV']"
      ]
     },
     "execution_count": 57,
     "metadata": {},
     "output_type": "execute_result"
    }
   ],
   "source": [
    "TRACK_NAMES"
   ]
  },
  {
   "cell_type": "code",
   "execution_count": 59,
   "id": "81",
   "metadata": {
    "scrolled": false
   },
   "outputs": [
    {
     "name": "stdout",
     "output_type": "stream",
     "text": [
      "Loading case: 0001, (1 of 2)\n",
      "Length of SNUADC/ART:     5770575\n",
      "Feature Segment Length:   30000 pts, 60.0 sec\n",
      "Middle Segment Length:    90000 pts, 180.0 sec\n",
      "Label Segment Length:     30000 pts, 60.0 sec\n",
      "Total Segments Evaluated: 1125\n",
      "  Segments Valid:         775, 68.9%\n",
      "  Segments with Event:    70, 9.0%\n",
      "Total Processing Time:    0.9460 sec\n",
      "\n",
      "Loading case: 0003, (2 of 2)\n",
      "Length of SNUADC/ART:     2197020\n",
      "Feature Segment Length:   30000 pts, 60.0 sec\n",
      "Middle Segment Length:    90000 pts, 180.0 sec\n",
      "Label Segment Length:     30000 pts, 60.0 sec\n",
      "Total Segments Evaluated: 410\n",
      "  Segments Valid:         0, 0.0%\n",
      "  Segments with Event:    0, 0.0%\n",
      "Total Processing Time:    1.2450 sec\n",
      "\n",
      "OVERALL SUMMARY\n",
      "Total Processing Time:    1.3140 sec\n",
      "Total Cases Processed:    2\n",
      "Total Segments Evaluated: 1535\n",
      "  Segments Valid:         775, 50.5%\n",
      "  Segments with Event:    70, 4.6%\n",
      "Valid Samples Generated:  50.5%\n",
      "\n",
      "Valid Mask Shape:         (1535,)\n",
      "X_ABP Shape:              (1535, 30000, 1)\n",
      "Y Shape:                  (1535,)\n"
     ]
    }
   ],
   "source": [
    "# Maximum number of cases to process.\n",
    "COUNT_CASES = 2\n",
    "# Sampling rate for the arterial waveform signal, Hz.\n",
    "SRATE_HZ    = 500\n",
    "\n",
    "# Length of feature segment, seconds.\n",
    "FEATURE_LENGTH_SEC = 60\n",
    "# Look ahead to predict hypotension, seconds.\n",
    "MIDDLE_LENGTH_SEC  = 60 * 3\n",
    "# Length of label segment, seconds.\n",
    "LABEL_LENGTH_SEC   = 60\n",
    "\n",
    "# Length to move down the track for starting a new analysis segment, seconds.\n",
    "NEW_SEGMENT_OFFSET_SEC = 10\n",
    "\n",
    "# Final dataset for training and testing the model.\n",
    "x_abp = []              # input with shape of (segements, timepoints)\n",
    "y = []              # output with shape of (segments)\n",
    "valid_mask = []     # validity of each segement; only valid segments are used for model building\n",
    "c = []              # caseid of each segment\n",
    "\n",
    "# Process each case and extract segments. For each segment identify presence of an event in the label zone.\n",
    "time_start = timer()\n",
    "\n",
    "for case_count, caseid in enumerate(cases_of_interest_idx[:COUNT_CASES]):\n",
    "    print(f'Loading case: {caseid:04d}, ({case_count + 1} of {COUNT_CASES})')\n",
    "\n",
    "    # read the arterial waveform\n",
    "    tmp_vf_path = f'{VITALDB_CACHE}/{VITAL_MINI}/{caseid:04d}_mini.vital'\n",
    "    tmp_vf = vitaldb.VitalFile(tmp_vf_path)\n",
    "    \n",
    "    abp = tmp_vf.to_numpy(TRACK_NAMES[0], 1/SRATE_HZ).ravel()\n",
    "    #ecg = tmp_vf.to_numpy(TRACK_NAMES[1], 1/SRATE_HZ).ravel()\n",
    "    #eeg = tmp_vf.to_numpy(TRACK_NAMES[2], 1/SRATE_HZ).ravel()\n",
    "    \n",
    "    print(f'Length of {TRACK_NAMES[0]}:     {abp.shape[0]}')\n",
    "    #print(f'Length of {TRACK_NAMES[1]}:     {ecg.shape[0]}')\n",
    "    #print(f'Length of {TRACK_NAMES[2]}:     {eeg.shape[0]}')\n",
    "\n",
    "    segment_count = 0\n",
    "    segment_valid = 0\n",
    "    segment_event = 0\n",
    "    print_first_segment = True\n",
    "\n",
    "    last_sample_start_index = len(abp) - SRATE_HZ * (FEATURE_LENGTH_SEC + MIDDLE_LENGTH_SEC + LABEL_LENGTH_SEC)\n",
    "    sample_index_offset = NEW_SEGMENT_OFFSET_SEC * SRATE_HZ\n",
    "    \n",
    "    for i in range(0, last_sample_start_index, sample_index_offset):\n",
    "        segment_count += 1\n",
    "        \n",
    "        segx_start = i\n",
    "        segx_end   = i + SRATE_HZ * FEATURE_LENGTH_SEC\n",
    "        segx = abp[segx_start:segx_end]\n",
    "        \n",
    "        segy_start = i + SRATE_HZ * (FEATURE_LENGTH_SEC + MIDDLE_LENGTH_SEC)\n",
    "        segy_end   = i + SRATE_HZ * (FEATURE_LENGTH_SEC + MIDDLE_LENGTH_SEC + LABEL_LENGTH_SEC)\n",
    "        segy = abp[segy_start:segy_end]\n",
    "        \n",
    "        if print_first_segment:\n",
    "            print(f'Feature Segment Length:   {segx.shape[0]} pts, {segx.shape[0] / SRATE_HZ} sec')\n",
    "            print(f'Middle Segment Length:    {segy_start - segx_end} pts, {(segy_start - segx_end) / SRATE_HZ} sec')\n",
    "            print(f'Label Segment Length:     {segy.shape[0]} pts, {segy.shape[0] / SRATE_HZ} sec')\n",
    "            print_first_segment = False\n",
    "\n",
    "        # check the validity of this segment\n",
    "        valid = True\n",
    "        if np.isnan(segx).mean() > 0.1:\n",
    "            valid = False\n",
    "        elif np.isnan(segy).mean() > 0.1:\n",
    "            valid = False\n",
    "        elif (segx > 200).any():\n",
    "            valid = False\n",
    "        elif (segy > 200).any():\n",
    "            valid = False\n",
    "        elif (segx < 30).any():\n",
    "            valid = False\n",
    "        elif (segy < 30).any():\n",
    "            valid = False\n",
    "        elif np.max(segx) - np.min(segx) < 30:\n",
    "            valid = False\n",
    "        elif np.max(segy) - np.min(segy) < 30:\n",
    "            valid = False\n",
    "        elif (np.abs(np.diff(segx)) > 30).any():  # abrupt change -> noise\n",
    "            valid = False\n",
    "        elif (np.abs(np.diff(segy)) > 30).any():  # abrupt change -> noise\n",
    "            valid = False\n",
    "\n",
    "        # 2 sec moving avg\n",
    "        n = 2 * SRATE_HZ  \n",
    "        segy = np.nancumsum(segy, dtype=np.float32)\n",
    "        segy[n:] = segy[n:] - segy[:-n]\n",
    "        segy = segy[n - 1:] / n\n",
    "\n",
    "        # forward filling - do this per case to avoid massive resource utilization at the end.\n",
    "        segx = pd.DataFrame(segx).fillna(method='ffill', axis=0).fillna(method='bfill', axis=0)[0].values\n",
    "        \n",
    "        # Identify IOH event as < 65mm HG\n",
    "        evt = np.nanmax(segy) < 65\n",
    "        x_abp.append(segx)\n",
    "        y.append(evt)\n",
    "        valid_mask.append(valid)\n",
    "        c.append(caseid)\n",
    "        \n",
    "        if valid:\n",
    "            segment_valid += 1\n",
    "            if evt:\n",
    "                segment_event += 1\n",
    "    \n",
    "    print(f'Total Segments Evaluated: {segment_count}')\n",
    "    segment_valid_percent = 0 if segment_count == 0 else 100 * segment_valid / segment_count \n",
    "    print(f'  Segments Valid:         {segment_valid}, {segment_valid_percent:.1f}%')\n",
    "    segment_event_percent = 0 if segment_valid == 0 else 100 * segment_event / segment_valid\n",
    "    print(f'  Segments with Event:    {segment_event}, {segment_event_percent:.1f}%')\n",
    "    time_delta = np.round(timer() - time_start, 3)\n",
    "    print(f'Total Processing Time:    {time_delta:.4f} sec')\n",
    "    print()\n",
    "    \n",
    "# final caseids\n",
    "caseids = np.unique(c)\n",
    "\n",
    "# convert lists to numpy array\n",
    "x_abp = np.array(x_abp)\n",
    "y = np.array(y) \n",
    "valid_mask = np.array(valid_mask)\n",
    "c = np.array(c)\n",
    "\n",
    "# forward filling\n",
    "#x_abp = pd.DataFrame(x_abp).fillna(method='ffill', axis=1).fillna(method='bfill', axis=1).values\n",
    "x_abp = pd.DataFrame(x_abp).values\n",
    "\n",
    "# ABP normalization\n",
    "x_abp -= 65\n",
    "x_abp /= 65\n",
    "\n",
    "# add axis for CNN; i.e. (# samples, feature segment length) -> (# samples, feature segment length, 1)\n",
    "x_abp = x_abp[..., None]\n",
    "\n",
    "# total processing time\n",
    "time_end = timer()\n",
    "time_delta = np.round(time_end - time_start, 3)\n",
    "\n",
    "print('OVERALL SUMMARY')\n",
    "print(f'Total Processing Time:    {time_delta:.4f} sec')\n",
    "print(f'Total Cases Processed:    {caseids.shape[0]}')\n",
    "print(f'Total Segments Evaluated: {x_abp.shape[0]}')\n",
    "\n",
    "segment_valid_count = np.sum(valid_mask)\n",
    "segment_valid_percent = 0 if x_abp.shape[0] == 0 else 100 * segment_valid_count / x_abp.shape[0] \n",
    "print(f'  Segments Valid:         {segment_valid_count}, {segment_valid_percent:.1f}%')\n",
    "segment_event_count = np.sum(y & valid_mask)\n",
    "segment_event_percent = 0 if y.shape[0] == 0 else 100 * segment_event_count / y.shape[0]\n",
    "print(f'  Segments with Event:    {segment_event_count}, {segment_event_percent:.1f}%')\n",
    "\n",
    "\n",
    "print(f'Valid Samples Generated:  {(100 * np.mean(valid_mask)):.1f}%')\n",
    "print()\n",
    "print(f'Valid Mask Shape:         {valid_mask.shape}')\n",
    "print(f'X_ABP Shape:              {x_abp.shape}')\n",
    "print(f'Y Shape:                  {y.shape}')"
   ]
  },
  {
   "cell_type": "code",
   "execution_count": null,
   "id": "3dfa5012",
   "metadata": {},
   "outputs": [],
   "source": [
    "np.sum(y & valid_mask)"
   ]
  },
  {
   "cell_type": "code",
   "execution_count": null,
   "id": "86",
   "metadata": {},
   "outputs": [],
   "source": [
    "plt.plot(valid_mask);"
   ]
  },
  {
   "cell_type": "code",
   "execution_count": null,
   "id": "5a75b1a5",
   "metadata": {},
   "outputs": [],
   "source": [
    "valid_mask[190]"
   ]
  },
  {
   "cell_type": "code",
   "execution_count": null,
   "id": "88",
   "metadata": {
    "scrolled": false
   },
   "outputs": [],
   "source": [
    "plt.plot(x[190].ravel());"
   ]
  },
  {
   "cell_type": "code",
   "execution_count": null,
   "id": "89",
   "metadata": {
    "scrolled": false
   },
   "outputs": [],
   "source": [
    "plt.plot(y);"
   ]
  },
  {
   "cell_type": "code",
   "execution_count": null,
   "id": "226370ef",
   "metadata": {},
   "outputs": [],
   "source": [
    "x.shape"
   ]
  },
  {
   "cell_type": "code",
   "execution_count": null,
   "id": "9a3db43c",
   "metadata": {},
   "outputs": [],
   "source": [
    "xx = pd.DataFrame(x.squeeze())\n",
    "xx.info()"
   ]
  },
  {
   "cell_type": "code",
   "execution_count": null,
   "id": "277ccd86",
   "metadata": {},
   "outputs": [],
   "source": []
  }
 ],
 "metadata": {
  "kernelspec": {
   "display_name": "Python 3 (ipykernel)",
   "language": "python",
   "name": "python3"
  },
  "language_info": {
   "codemirror_mode": {
    "name": "ipython",
    "version": 3
   },
   "file_extension": ".py",
   "mimetype": "text/x-python",
   "name": "python",
   "nbconvert_exporter": "python",
   "pygments_lexer": "ipython3",
   "version": "3.11.6"
  }
 },
 "nbformat": 4,
 "nbformat_minor": 5
}
